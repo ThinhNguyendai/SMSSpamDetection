{
 "cells": [
  {
   "cell_type": "markdown",
   "id": "445f6e12",
   "metadata": {},
   "source": [
    "# Building 3 neural networks to classify spam messages"
   ]
  },
  {
   "cell_type": "code",
   "execution_count": 1,
   "id": "016fc686",
   "metadata": {},
   "outputs": [],
   "source": [
    "import matplotlib.pyplot as plt\n",
    "import numpy as np\n",
    "import pandas as pd\n",
    "\n",
    "#Text processing\n",
    "import tensorflow as tf # conda install -c conda-forge tensorflow\n",
    "from tensorflow.keras.preprocessing.text import Tokenizer\n",
    "from tensorflow.keras.preprocessing.sequence import pad_sequences\n",
    "\n",
    "#Deep learning\n",
    "from sklearn.model_selection import train_test_split, GridSearchCV\n",
    "from sklearn.metrics import confusion_matrix\n",
    "\n",
    "from tensorflow.keras.models import Sequential\n",
    "from tensorflow.keras.layers import Dense, Flatten, Embedding, Dropout\n",
    "from tensorflow.keras.layers import Conv1D, MaxPooling1D #CNN specific"
   ]
  },
  {
   "cell_type": "code",
   "execution_count": 2,
   "id": "01035b0f",
   "metadata": {},
   "outputs": [],
   "source": [
    "url = \"https://raw.githubusercontent.com/ThinhNguyendai/SMSSpamDetection/main/SMSSpamCollection\"\n",
    "messages = pd.read_csv(url, sep ='\\t', names=[\"label\", \"message\"])\n",
    "messages = messages.drop_duplicates()\n",
    "\n",
    "#Oversampled + Original copy of spam\n",
    "url2 = \"https://raw.githubusercontent.com/ThinhNguyendai/SMSSpamDetection/main/BacktranslatedSpam\"\n",
    "new_spam = pd.read_csv(url2, sep ='\\t', names=[\"message\"]) # No label like the usual file here\n",
    "spam_labels = [\"spam\" for i in range(len(new_spam))]\n",
    "new_spam.insert(0, \"label\", spam_labels, allow_duplicates=True)"
   ]
  },
  {
   "cell_type": "code",
   "execution_count": 3,
   "id": "f43f692d",
   "metadata": {},
   "outputs": [
    {
     "name": "stdout",
     "output_type": "stream",
     "text": [
      "4516 4571\n"
     ]
    }
   ],
   "source": [
    "ham_msg = messages[messages.label =='ham']\n",
    "print(len(ham_msg), len(new_spam))"
   ]
  },
  {
   "cell_type": "code",
   "execution_count": 4,
   "id": "bc28cc22",
   "metadata": {},
   "outputs": [
    {
     "data": {
      "text/html": [
       "<div>\n",
       "<style scoped>\n",
       "    .dataframe tbody tr th:only-of-type {\n",
       "        vertical-align: middle;\n",
       "    }\n",
       "\n",
       "    .dataframe tbody tr th {\n",
       "        vertical-align: top;\n",
       "    }\n",
       "\n",
       "    .dataframe thead th {\n",
       "        text-align: right;\n",
       "    }\n",
       "</style>\n",
       "<table border=\"1\" class=\"dataframe\">\n",
       "  <thead>\n",
       "    <tr style=\"text-align: right;\">\n",
       "      <th></th>\n",
       "      <th>label</th>\n",
       "      <th>message</th>\n",
       "    </tr>\n",
       "  </thead>\n",
       "  <tbody>\n",
       "    <tr>\n",
       "      <th>0</th>\n",
       "      <td>ham</td>\n",
       "      <td>Go until jurong point, crazy.. Available only ...</td>\n",
       "    </tr>\n",
       "    <tr>\n",
       "      <th>1</th>\n",
       "      <td>ham</td>\n",
       "      <td>Ok lar... Joking wif u oni...</td>\n",
       "    </tr>\n",
       "    <tr>\n",
       "      <th>2</th>\n",
       "      <td>ham</td>\n",
       "      <td>U dun say so early hor... U c already then say...</td>\n",
       "    </tr>\n",
       "    <tr>\n",
       "      <th>3</th>\n",
       "      <td>ham</td>\n",
       "      <td>Nah I don't think he goes to usf, he lives aro...</td>\n",
       "    </tr>\n",
       "    <tr>\n",
       "      <th>4</th>\n",
       "      <td>ham</td>\n",
       "      <td>Even my brother is not like to speak with me. ...</td>\n",
       "    </tr>\n",
       "    <tr>\n",
       "      <th>...</th>\n",
       "      <td>...</td>\n",
       "      <td>...</td>\n",
       "    </tr>\n",
       "    <tr>\n",
       "      <th>9027</th>\n",
       "      <td>spam</td>\n",
       "      <td>&lt;Redirected from 21870000&gt;Hello, this is your...</td>\n",
       "    </tr>\n",
       "    <tr>\n",
       "      <th>9028</th>\n",
       "      <td>spam</td>\n",
       "      <td>don't know you and you don't know me. Send CH...</td>\n",
       "    </tr>\n",
       "    <tr>\n",
       "      <th>9029</th>\n",
       "      <td>spam</td>\n",
       "      <td>You can stop more club tones by answering \"ST...</td>\n",
       "    </tr>\n",
       "    <tr>\n",
       "      <th>9030</th>\n",
       "      <td>spam</td>\n",
       "      <td>Latest news! Police station toilet stolen, po...</td>\n",
       "    </tr>\n",
       "    <tr>\n",
       "      <th>9031</th>\n",
       "      <td>spam</td>\n",
       "      <td>FreeMSG You have been awarded a FREE DIGITAL ...</td>\n",
       "    </tr>\n",
       "  </tbody>\n",
       "</table>\n",
       "<p>9032 rows × 2 columns</p>\n",
       "</div>"
      ],
      "text/plain": [
       "     label                                            message\n",
       "0      ham  Go until jurong point, crazy.. Available only ...\n",
       "1      ham                      Ok lar... Joking wif u oni...\n",
       "2      ham  U dun say so early hor... U c already then say...\n",
       "3      ham  Nah I don't think he goes to usf, he lives aro...\n",
       "4      ham  Even my brother is not like to speak with me. ...\n",
       "...    ...                                                ...\n",
       "9027  spam   <Redirected from 21870000>Hello, this is your...\n",
       "9028  spam   don't know you and you don't know me. Send CH...\n",
       "9029  spam   You can stop more club tones by answering \"ST...\n",
       "9030  spam   Latest news! Police station toilet stolen, po...\n",
       "9031  spam   FreeMSG You have been awarded a FREE DIGITAL ...\n",
       "\n",
       "[9032 rows x 2 columns]"
      ]
     },
     "execution_count": 4,
     "metadata": {},
     "output_type": "execute_result"
    }
   ],
   "source": [
    "new_spam_df = new_spam.sample(n = len(ham_msg), random_state = 754)\n",
    "msg_df = pd.concat([ham_msg, new_spam_df])\n",
    "msg_df.reset_index(drop=True)"
   ]
  },
  {
   "cell_type": "code",
   "execution_count": 5,
   "id": "b0d8f58e",
   "metadata": {},
   "outputs": [],
   "source": [
    "msg_labels = (msg_df['label'].map({'ham': 0, 'spam': 1})).values\n",
    "train_msg, test_msg, train_labels, test_labels = train_test_split(msg_df['message'],\n",
    "                                                                  msg_labels,\n",
    "                                                                  test_size=0.2,\n",
    "                                                                  random_state=705)"
   ]
  },
  {
   "cell_type": "code",
   "execution_count": 6,
   "id": "598c135f",
   "metadata": {},
   "outputs": [],
   "source": [
    "#Tokenizer : turn words into integers\n",
    "oov_tok = \"<OOV>\" # What to replace words that are not in the vocabulary with\n",
    "vocab_size = 1000 # Maximum number of uniques words for tokenizer\n",
    "\n",
    "tokenizer = Tokenizer(num_words = vocab_size,\n",
    "                      char_level=False, # Work words by word\n",
    "                      oov_token = oov_tok)\n",
    "tokenizer.fit_on_texts(train_msg)"
   ]
  },
  {
   "cell_type": "markdown",
   "id": "a5b73b72",
   "metadata": {},
   "source": [
    "# Discussion of hyper parameters of tokenizer\n",
    "vocab_size equal to 500 means we drop 30% of the words in total (counting duplicates)\n",
    "\n",
    "vocab_size equal to 1000 means we drop 20% of the words in total\n",
    "\n",
    "\n",
    "When it comes to length of sentences, with a max_len of 50 we get more than 99.2% of the sentences, which makes it sufficiently long."
   ]
  },
  {
   "cell_type": "code",
   "execution_count": 7,
   "id": "15f98181",
   "metadata": {},
   "outputs": [
    {
     "data": {
      "text/plain": [
       "8863"
      ]
     },
     "execution_count": 7,
     "metadata": {},
     "output_type": "execute_result"
    }
   ],
   "source": [
    "word_index = tokenizer.word_index\n",
    "len(word_index)"
   ]
  },
  {
   "cell_type": "code",
   "execution_count": 8,
   "id": "9aeac48c",
   "metadata": {},
   "outputs": [],
   "source": [
    "# Sequencing and padding on training and testing \n",
    "max_len = 50 # Max number of tokens, used with truncating and padding\n",
    "trunc_type = \"post\" # Truncates sequences of tokens that are longer than max_len, post=right side\n",
    "padding_type = \"post\" # Pads AFTER (with post) if sequence is shorter than max_len\n",
    "\n",
    "training_sequences = tokenizer.texts_to_sequences(train_msg)\n",
    "training_padded = pad_sequences (training_sequences, maxlen = max_len,\n",
    "                                 padding = padding_type, truncating = trunc_type)\n",
    "\n",
    "testing_sequences = tokenizer.texts_to_sequences(test_msg)\n",
    "testing_padded = pad_sequences(testing_sequences, maxlen = max_len,\n",
    "                               padding = padding_type, truncating = trunc_type)"
   ]
  },
  {
   "cell_type": "code",
   "execution_count": 9,
   "id": "140e9ad0",
   "metadata": {},
   "outputs": [
    {
     "name": "stdout",
     "output_type": "stream",
     "text": [
      "999\n",
      "999\n"
     ]
    }
   ],
   "source": [
    "print(np.max(training_padded)) #We have 1000 words, INCLUDING the token 0 for padding and <OOV> for out of vocabulary\n",
    "print(np.max(testing_padded))"
   ]
  },
  {
   "cell_type": "code",
   "execution_count": 10,
   "id": "8eb14bd6",
   "metadata": {},
   "outputs": [
    {
     "name": "stdout",
     "output_type": "stream",
     "text": [
      "Shape of training array:  (7225, 50)\n",
      "Shape of testing array:  (1807, 50)\n",
      "<class 'numpy.ndarray'>\n",
      "<class 'numpy.ndarray'>\n"
     ]
    }
   ],
   "source": [
    "print('Shape of training array: ', training_padded.shape)\n",
    "print('Shape of testing array: ', testing_padded.shape)\n",
    "print(type(training_padded))\n",
    "print(type(train_labels))"
   ]
  },
  {
   "cell_type": "code",
   "execution_count": 11,
   "id": "80ef4e14",
   "metadata": {},
   "outputs": [],
   "source": [
    "#F1 score is not defined in Keras\n",
    "#From https://datascience.stackexchange.com/questions/45165/how-to-get-accuracy-f1-precision-and-recall-for-a-keras-model\n",
    "from tensorflow.keras import backend as K\n",
    "def recall_m(y_true, y_pred):\n",
    "    true_positives = K.sum(K.round(K.clip(y_true * y_pred, 0, 1)))\n",
    "    possible_positives = K.sum(K.round(K.clip(y_true, 0, 1)))\n",
    "    recall = true_positives / (possible_positives + K.epsilon())\n",
    "    return recall\n",
    "\n",
    "def precision_m(y_true, y_pred):\n",
    "    true_positives = K.sum(K.round(K.clip(y_true * y_pred, 0, 1)))\n",
    "    predicted_positives = K.sum(K.round(K.clip(y_pred, 0, 1)))\n",
    "    precision = true_positives / (predicted_positives + K.epsilon())\n",
    "    return precision\n",
    "\n",
    "def f1_m(y_true, y_pred):\n",
    "    precision = precision_m(y_true, y_pred)\n",
    "    recall = recall_m(y_true, y_pred)\n",
    "    return 2*((precision*recall)/(precision+recall+K.epsilon()))"
   ]
  },
  {
   "cell_type": "markdown",
   "id": "27e3f7df",
   "metadata": {},
   "source": [
    "### Keras functions to define neural network\n",
    "Embedding layer takes as input a vector of length *input_length* of **integers**, where the integers are between 0 and *vocab_size-1* (both bounds included). The output is a matrix of dimensions *input_length* * *output_dim*. In other words, each input neuron is projected into a space of dimension *output_dim*.\n",
    "\n",
    "The flatten layer flattens the 2D output into a 1D array\n",
    "\n",
    "Dense layer is another name for the regular fully connected layer."
   ]
  },
  {
   "cell_type": "code",
   "execution_count": 12,
   "id": "eaf1cb00",
   "metadata": {},
   "outputs": [
    {
     "name": "stdout",
     "output_type": "stream",
     "text": [
      "Model: \"sequential\"\n",
      "_________________________________________________________________\n",
      "Layer (type)                 Output Shape              Param #   \n",
      "=================================================================\n",
      "embedding (Embedding)        (None, 50, 32)            32000     \n",
      "_________________________________________________________________\n",
      "flatten (Flatten)            (None, 1600)              0         \n",
      "_________________________________________________________________\n",
      "dense (Dense)                (None, 128)               204928    \n",
      "_________________________________________________________________\n",
      "dense_1 (Dense)              (None, 1)                 129       \n",
      "=================================================================\n",
      "Total params: 237,057\n",
      "Trainable params: 237,057\n",
      "Non-trainable params: 0\n",
      "_________________________________________________________________\n"
     ]
    }
   ],
   "source": [
    "#vocab_size = 1000\n",
    "#max_len = 50\n",
    "embedding_dim = 32\n",
    "batch_size = 20\n",
    "fc_size = 128\n",
    "\n",
    "model = Sequential()\n",
    "model.add(Embedding(vocab_size, embedding_dim, input_length = max_len))\n",
    "model.add(Flatten())\n",
    "model.add(Dense(fc_size, activation='relu'))\n",
    "model.add(Dense(1, activation='sigmoid'))\n",
    "model.compile(optimizer='adam', loss='binary_crossentropy', metrics=['accuracy', precision_m, recall_m, f1_m])\n",
    "model.summary()"
   ]
  },
  {
   "cell_type": "code",
   "execution_count": 13,
   "id": "35e33c48",
   "metadata": {},
   "outputs": [
    {
     "name": "stdout",
     "output_type": "stream",
     "text": [
      "Epoch 1/15\n",
      "362/362 [==============================] - 3s 4ms/step - loss: 0.1575 - accuracy: 0.9433 - precision_m: 0.9528 - recall_m: 0.9360 - f1_m: 0.9413 - val_loss: 0.0429 - val_accuracy: 0.9834 - val_precision_m: 0.9890 - val_recall_m: 0.9801 - val_f1_m: 0.9838\n",
      "Epoch 2/15\n",
      "362/362 [==============================] - 1s 3ms/step - loss: 0.0225 - accuracy: 0.9929 - precision_m: 0.9945 - recall_m: 0.9912 - f1_m: 0.9925 - val_loss: 0.0271 - val_accuracy: 0.9917 - val_precision_m: 0.9941 - val_recall_m: 0.9886 - val_f1_m: 0.9910\n",
      "Epoch 3/15\n",
      "362/362 [==============================] - 1s 3ms/step - loss: 0.0074 - accuracy: 0.9986 - precision_m: 0.9968 - recall_m: 0.9950 - f1_m: 0.9958 - val_loss: 0.0232 - val_accuracy: 0.9917 - val_precision_m: 0.9929 - val_recall_m: 0.9897 - val_f1_m: 0.9909\n",
      "Epoch 4/15\n",
      "362/362 [==============================] - 1s 3ms/step - loss: 0.0032 - accuracy: 0.9994 - precision_m: 0.9970 - recall_m: 0.9964 - f1_m: 0.9966 - val_loss: 0.0356 - val_accuracy: 0.9878 - val_precision_m: 0.9811 - val_recall_m: 0.9940 - val_f1_m: 0.9870\n",
      "Epoch 5/15\n",
      "362/362 [==============================] - 1s 3ms/step - loss: 0.0018 - accuracy: 0.9997 - precision_m: 0.9998 - recall_m: 0.9997 - f1_m: 0.9997 - val_loss: 0.0232 - val_accuracy: 0.9911 - val_precision_m: 0.9918 - val_recall_m: 0.9893 - val_f1_m: 0.9901\n",
      "Epoch 6/15\n",
      "362/362 [==============================] - 1s 3ms/step - loss: 0.0013 - accuracy: 0.9997 - precision_m: 0.9998 - recall_m: 0.9994 - f1_m: 0.9996 - val_loss: 0.0245 - val_accuracy: 0.9906 - val_precision_m: 0.9918 - val_recall_m: 0.9886 - val_f1_m: 0.9898\n",
      "Epoch 7/15\n",
      "362/362 [==============================] - 1s 3ms/step - loss: 0.0012 - accuracy: 0.9999 - precision_m: 1.0000 - recall_m: 0.9997 - f1_m: 0.9998 - val_loss: 0.0257 - val_accuracy: 0.9911 - val_precision_m: 0.9918 - val_recall_m: 0.9893 - val_f1_m: 0.9902\n",
      "Epoch 8/15\n",
      "362/362 [==============================] - 1s 3ms/step - loss: 0.0012 - accuracy: 0.9997 - precision_m: 0.9997 - recall_m: 0.9997 - f1_m: 0.9997 - val_loss: 0.0272 - val_accuracy: 0.9923 - val_precision_m: 0.9918 - val_recall_m: 0.9914 - val_f1_m: 0.9913\n",
      "Epoch 9/15\n",
      "362/362 [==============================] - 1s 3ms/step - loss: 9.4876e-04 - accuracy: 0.9999 - precision_m: 1.0000 - recall_m: 0.9997 - f1_m: 0.9999 - val_loss: 0.0249 - val_accuracy: 0.9917 - val_precision_m: 0.9918 - val_recall_m: 0.9905 - val_f1_m: 0.9908\n",
      "Epoch 10/15\n",
      "362/362 [==============================] - 1s 3ms/step - loss: 0.0014 - accuracy: 0.9996 - precision_m: 0.9994 - recall_m: 0.9997 - f1_m: 0.9995 - val_loss: 0.0273 - val_accuracy: 0.9895 - val_precision_m: 0.9918 - val_recall_m: 0.9870 - val_f1_m: 0.9889\n",
      "Epoch 11/15\n",
      "362/362 [==============================] - 1s 3ms/step - loss: 0.0013 - accuracy: 0.9996 - precision_m: 0.9964 - recall_m: 0.9969 - f1_m: 0.9966 - val_loss: 0.0266 - val_accuracy: 0.9917 - val_precision_m: 0.9923 - val_recall_m: 0.9903 - val_f1_m: 0.9909\n",
      "Epoch 12/15\n",
      "362/362 [==============================] - 1s 3ms/step - loss: 0.0011 - accuracy: 0.9996 - precision_m: 0.9994 - recall_m: 0.9997 - f1_m: 0.9995 - val_loss: 0.0262 - val_accuracy: 0.9923 - val_precision_m: 0.9932 - val_recall_m: 0.9903 - val_f1_m: 0.9914\n",
      "Epoch 13/15\n",
      "362/362 [==============================] - 1s 3ms/step - loss: 0.0011 - accuracy: 0.9999 - precision_m: 1.0000 - recall_m: 0.9998 - f1_m: 0.9999 - val_loss: 0.0292 - val_accuracy: 0.9906 - val_precision_m: 0.9918 - val_recall_m: 0.9884 - val_f1_m: 0.9897\n",
      "Epoch 14/15\n",
      "362/362 [==============================] - 1s 3ms/step - loss: 0.0013 - accuracy: 0.9997 - precision_m: 0.9997 - recall_m: 0.9997 - f1_m: 0.9997 - val_loss: 0.0294 - val_accuracy: 0.9911 - val_precision_m: 0.9930 - val_recall_m: 0.9885 - val_f1_m: 0.9904\n",
      "Epoch 15/15\n",
      "362/362 [==============================] - 1s 3ms/step - loss: 0.0010 - accuracy: 0.9999 - precision_m: 1.0000 - recall_m: 0.9998 - f1_m: 0.9999 - val_loss: 0.0325 - val_accuracy: 0.9911 - val_precision_m: 0.9891 - val_recall_m: 0.9922 - val_f1_m: 0.9902\n"
     ]
    }
   ],
   "source": [
    "hist = model.fit(training_padded, train_labels,\n",
    "                    validation_data=(testing_padded, test_labels),\n",
    "                    epochs=15, batch_size=batch_size)"
   ]
  },
  {
   "cell_type": "code",
   "execution_count": 14,
   "id": "674e50c0",
   "metadata": {},
   "outputs": [
    {
     "name": "stdout",
     "output_type": "stream",
     "text": [
      "0.9911455512046814 0.988258421421051 0.9927989840507507 0.9903088212013245\n"
     ]
    }
   ],
   "source": [
    "loss, accuracy, precision, recall, f1_score = model.evaluate(testing_padded, test_labels, verbose=0)\n",
    "print(accuracy, precision, recall, f1_score)"
   ]
  },
  {
   "cell_type": "markdown",
   "id": "dd88dac9",
   "metadata": {},
   "source": [
    "## Commenting on results\n",
    "This new neural network performs significantly better.\n",
    "It's difficult to say whether it's due to simply using more parameters or the embedding layer, but the results are there.\n",
    "\n",
    "**Might be worth checking whether the choices of hyperparameters make sense**. Max_len and vocab_size might no longer be appropriate for this new dataset."
   ]
  },
  {
   "cell_type": "markdown",
   "id": "f2a8ffac",
   "metadata": {},
   "source": [
    "# Convolutional neural network\n",
    "Trying out another technique to see if we can improve our model"
   ]
  },
  {
   "cell_type": "code",
   "execution_count": 15,
   "id": "1419920b",
   "metadata": {},
   "outputs": [],
   "source": [
    "#vocab_size = 1000\n",
    "#max_len = 50\n",
    "embedding_dim = 32\n",
    "batch_size = 20\n",
    "\n",
    "conv1_size = 32\n",
    "fc_size = 64 "
   ]
  },
  {
   "cell_type": "code",
   "execution_count": 39,
   "id": "462d5315",
   "metadata": {},
   "outputs": [
    {
     "name": "stdout",
     "output_type": "stream",
     "text": [
      "Model: \"sequential_3\"\n",
      "_________________________________________________________________\n",
      "Layer (type)                 Output Shape              Param #   \n",
      "=================================================================\n",
      "embedding_3 (Embedding)      (None, 50, 32)            32000     \n",
      "_________________________________________________________________\n",
      "conv1d_3 (Conv1D)            (None, 48, 32)            3104      \n",
      "_________________________________________________________________\n",
      "max_pooling1d_3 (MaxPooling1 (None, 24, 32)            0         \n",
      "_________________________________________________________________\n",
      "flatten_3 (Flatten)          (None, 768)               0         \n",
      "_________________________________________________________________\n",
      "dense_7 (Dense)              (None, 64)                49216     \n",
      "_________________________________________________________________\n",
      "dense_8 (Dense)              (None, 1)                 65        \n",
      "=================================================================\n",
      "Total params: 84,385\n",
      "Trainable params: 84,385\n",
      "Non-trainable params: 0\n",
      "_________________________________________________________________\n"
     ]
    }
   ],
   "source": [
    "CNN = Sequential()\n",
    "CNN.add(Embedding(vocab_size, embedding_dim, input_length=max_len))\n",
    "# No flatten because Conv1D input is formatted this way\n",
    "CNN.add(Conv1D(conv1_size, 3, activation='relu'))\n",
    "CNN.add(MaxPooling1D(pool_size=2))\n",
    "CNN.add(Flatten())\n",
    "CNN.add(Dense(fc_size, activation='relu'))\n",
    "CNN.add(Dense(1, activation='sigmoid'))\n",
    "CNN.compile(optimizer='adam', loss='binary_crossentropy', metrics=['accuracy', precision_m, recall_m, f1_m])\n",
    "CNN.summary()"
   ]
  },
  {
   "cell_type": "code",
   "execution_count": 40,
   "id": "5bc31d19",
   "metadata": {},
   "outputs": [
    {
     "name": "stdout",
     "output_type": "stream",
     "text": [
      "Epoch 1/15\n",
      "362/362 [==============================] - 3s 4ms/step - loss: 0.1580 - accuracy: 0.9384 - precision_m: 0.9431 - recall_m: 0.9335 - f1_m: 0.9346 - val_loss: 0.0531 - val_accuracy: 0.9845 - val_precision_m: 0.9884 - val_recall_m: 0.9813 - val_f1_m: 0.9843\n",
      "Epoch 2/15\n",
      "362/362 [==============================] - 1s 3ms/step - loss: 0.0328 - accuracy: 0.9909 - precision_m: 0.9947 - recall_m: 0.9865 - f1_m: 0.9901 - val_loss: 0.0354 - val_accuracy: 0.9889 - val_precision_m: 0.9970 - val_recall_m: 0.9814 - val_f1_m: 0.9886\n",
      "Epoch 3/15\n",
      "362/362 [==============================] - 1s 3ms/step - loss: 0.0135 - accuracy: 0.9961 - precision_m: 0.9976 - recall_m: 0.9945 - f1_m: 0.9958 - val_loss: 0.0271 - val_accuracy: 0.9934 - val_precision_m: 0.9943 - val_recall_m: 0.9939 - val_f1_m: 0.9938\n",
      "Epoch 4/15\n",
      "362/362 [==============================] - 1s 3ms/step - loss: 0.0048 - accuracy: 0.9989 - precision_m: 0.9997 - recall_m: 0.9984 - f1_m: 0.9990 - val_loss: 0.0282 - val_accuracy: 0.9928 - val_precision_m: 0.9952 - val_recall_m: 0.9925 - val_f1_m: 0.9935\n",
      "Epoch 5/15\n",
      "362/362 [==============================] - 1s 3ms/step - loss: 0.0039 - accuracy: 0.9992 - precision_m: 0.9994 - recall_m: 0.9987 - f1_m: 0.9990 - val_loss: 0.0291 - val_accuracy: 0.9939 - val_precision_m: 0.9952 - val_recall_m: 0.9945 - val_f1_m: 0.9946\n",
      "Epoch 6/15\n",
      "362/362 [==============================] - 1s 3ms/step - loss: 0.0013 - accuracy: 0.9997 - precision_m: 1.0000 - recall_m: 0.9994 - f1_m: 0.9997 - val_loss: 0.0292 - val_accuracy: 0.9923 - val_precision_m: 0.9952 - val_recall_m: 0.9912 - val_f1_m: 0.9929\n",
      "Epoch 7/15\n",
      "362/362 [==============================] - 1s 3ms/step - loss: 0.0012 - accuracy: 0.9997 - precision_m: 0.9998 - recall_m: 0.9997 - f1_m: 0.9997 - val_loss: 0.0291 - val_accuracy: 0.9917 - val_precision_m: 0.9918 - val_recall_m: 0.9934 - val_f1_m: 0.9923\n",
      "Epoch 8/15\n",
      "362/362 [==============================] - 1s 3ms/step - loss: 8.8693e-04 - accuracy: 0.9999 - precision_m: 1.0000 - recall_m: 0.9995 - f1_m: 0.9997 - val_loss: 0.0316 - val_accuracy: 0.9917 - val_precision_m: 0.9942 - val_recall_m: 0.9907 - val_f1_m: 0.9921\n",
      "Epoch 9/15\n",
      "362/362 [==============================] - 1s 3ms/step - loss: 7.0299e-04 - accuracy: 0.9999 - precision_m: 1.0000 - recall_m: 0.9998 - f1_m: 0.9999 - val_loss: 0.0376 - val_accuracy: 0.9923 - val_precision_m: 0.9924 - val_recall_m: 0.9944 - val_f1_m: 0.9931\n",
      "Epoch 10/15\n",
      "362/362 [==============================] - 1s 3ms/step - loss: 7.4618e-04 - accuracy: 0.9999 - precision_m: 1.0000 - recall_m: 0.9997 - f1_m: 0.9999 - val_loss: 0.0373 - val_accuracy: 0.9917 - val_precision_m: 0.9952 - val_recall_m: 0.9897 - val_f1_m: 0.9921\n",
      "Epoch 11/15\n",
      "362/362 [==============================] - 1s 3ms/step - loss: 7.1732e-04 - accuracy: 0.9999 - precision_m: 1.0000 - recall_m: 0.9997 - f1_m: 0.9999 - val_loss: 0.0351 - val_accuracy: 0.9923 - val_precision_m: 0.9944 - val_recall_m: 0.9925 - val_f1_m: 0.9932\n",
      "Epoch 12/15\n",
      "362/362 [==============================] - 1s 3ms/step - loss: 7.8691e-04 - accuracy: 0.9999 - precision_m: 1.0000 - recall_m: 0.9998 - f1_m: 0.9999 - val_loss: 0.0386 - val_accuracy: 0.9906 - val_precision_m: 0.9962 - val_recall_m: 0.9860 - val_f1_m: 0.9906\n",
      "Epoch 13/15\n",
      "362/362 [==============================] - 1s 3ms/step - loss: 6.8626e-04 - accuracy: 0.9997 - precision_m: 0.9996 - recall_m: 0.9997 - f1_m: 0.9997 - val_loss: 0.0372 - val_accuracy: 0.9917 - val_precision_m: 0.9944 - val_recall_m: 0.9915 - val_f1_m: 0.9927\n",
      "Epoch 14/15\n",
      "362/362 [==============================] - 1s 3ms/step - loss: 7.5386e-04 - accuracy: 0.9999 - precision_m: 1.0000 - recall_m: 0.9998 - f1_m: 0.9999 - val_loss: 0.0396 - val_accuracy: 0.9911 - val_precision_m: 0.9883 - val_recall_m: 0.9953 - val_f1_m: 0.9914\n",
      "Epoch 15/15\n",
      "362/362 [==============================] - 1s 3ms/step - loss: 5.8724e-04 - accuracy: 0.9996 - precision_m: 0.9995 - recall_m: 0.9998 - f1_m: 0.9996 - val_loss: 0.0439 - val_accuracy: 0.9928 - val_precision_m: 0.9952 - val_recall_m: 0.9925 - val_f1_m: 0.9936\n"
     ]
    }
   ],
   "source": [
    "histCNN = CNN.fit(training_padded, train_labels,\n",
    "                    validation_data=(testing_padded, test_labels),\n",
    "                    epochs=15, batch_size=batch_size)"
   ]
  },
  {
   "cell_type": "code",
   "execution_count": 41,
   "id": "3546ac22",
   "metadata": {
    "scrolled": true
   },
   "outputs": [
    {
     "name": "stdout",
     "output_type": "stream",
     "text": [
      "0.9928057789802551 0.9944339394569397 0.9920064210891724 0.9930518865585327\n"
     ]
    }
   ],
   "source": [
    "loss, accuracy, precision, recall, f1_score = CNN.evaluate(testing_padded, test_labels, verbose=0)\n",
    "print(accuracy, precision, recall, f1_score)"
   ]
  },
  {
   "cell_type": "markdown",
   "id": "f3932d3a",
   "metadata": {},
   "source": [
    "# Results\n",
    "We obtain pretty similar results, very slightly better. Let's try more convolutional and pooling and less fully connected."
   ]
  },
  {
   "cell_type": "markdown",
   "id": "a60314d9",
   "metadata": {},
   "source": [
    "# Second convolutional network\n",
    "More convolutional layers\n",
    "More dense layers\n",
    "Dropout in the dense layers"
   ]
  },
  {
   "cell_type": "code",
   "execution_count": 19,
   "id": "a398199a",
   "metadata": {},
   "outputs": [],
   "source": [
    "conv1_size = 32\n",
    "conv2_size = 48\n",
    "fc1_size = 48\n",
    "dropout_rate1 = 0.2\n",
    "fc2_size = 24\n",
    "dropout_rate2 = 0.3"
   ]
  },
  {
   "cell_type": "code",
   "execution_count": 20,
   "id": "52e1f0d5",
   "metadata": {},
   "outputs": [
    {
     "name": "stdout",
     "output_type": "stream",
     "text": [
      "Model: \"sequential_2\"\n",
      "_________________________________________________________________\n",
      "Layer (type)                 Output Shape              Param #   \n",
      "=================================================================\n",
      "embedding_2 (Embedding)      (None, 50, 32)            32000     \n",
      "_________________________________________________________________\n",
      "conv1d_1 (Conv1D)            (None, 48, 32)            3104      \n",
      "_________________________________________________________________\n",
      "max_pooling1d_1 (MaxPooling1 (None, 24, 32)            0         \n",
      "_________________________________________________________________\n",
      "conv1d_2 (Conv1D)            (None, 22, 48)            4656      \n",
      "_________________________________________________________________\n",
      "max_pooling1d_2 (MaxPooling1 (None, 11, 48)            0         \n",
      "_________________________________________________________________\n",
      "flatten_2 (Flatten)          (None, 528)               0         \n",
      "_________________________________________________________________\n",
      "dropout (Dropout)            (None, 528)               0         \n",
      "_________________________________________________________________\n",
      "dense_4 (Dense)              (None, 48)                25392     \n",
      "_________________________________________________________________\n",
      "dropout_1 (Dropout)          (None, 48)                0         \n",
      "_________________________________________________________________\n",
      "dense_5 (Dense)              (None, 24)                1176      \n",
      "_________________________________________________________________\n",
      "dense_6 (Dense)              (None, 1)                 25        \n",
      "=================================================================\n",
      "Total params: 66,353\n",
      "Trainable params: 66,353\n",
      "Non-trainable params: 0\n",
      "_________________________________________________________________\n"
     ]
    }
   ],
   "source": [
    "CNN2 = Sequential()\n",
    "CNN2.add(Embedding(vocab_size, embedding_dim, input_length=max_len))\n",
    "CNN2.add(Conv1D(conv1_size, 3, activation='relu'))\n",
    "CNN2.add(MaxPooling1D(pool_size=2))\n",
    "CNN2.add(Conv1D(conv2_size, 3, activation='relu'))\n",
    "CNN2.add(MaxPooling1D(pool_size=2))\n",
    "CNN2.add(Flatten())\n",
    "CNN2.add(Dropout(dropout_rate1))\n",
    "CNN2.add(Dense(fc1_size, activation='relu'))\n",
    "CNN2.add(Dropout(dropout_rate2))\n",
    "CNN2.add(Dense(fc2_size, activation='relu'))\n",
    "CNN2.add(Dense(1, activation='sigmoid'))\n",
    "CNN2.compile(optimizer='adam', loss='binary_crossentropy', metrics=['accuracy', precision_m, recall_m, f1_m])\n",
    "CNN2.summary()"
   ]
  },
  {
   "cell_type": "code",
   "execution_count": 21,
   "id": "6b1a5856",
   "metadata": {},
   "outputs": [
    {
     "name": "stdout",
     "output_type": "stream",
     "text": [
      "Epoch 1/15\n",
      "362/362 [==============================] - 3s 6ms/step - loss: 0.2113 - accuracy: 0.9020 - precision_m: 0.8649 - recall_m: 0.8479 - f1_m: 0.8498 - val_loss: 0.0593 - val_accuracy: 0.9873 - val_precision_m: 0.9946 - val_recall_m: 0.9813 - val_f1_m: 0.9871\n",
      "Epoch 2/15\n",
      "362/362 [==============================] - 2s 4ms/step - loss: 0.0437 - accuracy: 0.9866 - precision_m: 0.9880 - recall_m: 0.9856 - f1_m: 0.9860 - val_loss: 0.0505 - val_accuracy: 0.9812 - val_precision_m: 0.9857 - val_recall_m: 0.9788 - val_f1_m: 0.9814\n",
      "Epoch 3/15\n",
      "362/362 [==============================] - 2s 4ms/step - loss: 0.0254 - accuracy: 0.9934 - precision_m: 0.9953 - recall_m: 0.9918 - f1_m: 0.9932 - val_loss: 0.0416 - val_accuracy: 0.9884 - val_precision_m: 0.9831 - val_recall_m: 0.9956 - val_f1_m: 0.9888\n",
      "Epoch 4/15\n",
      "362/362 [==============================] - 2s 4ms/step - loss: 0.0187 - accuracy: 0.9949 - precision_m: 0.9960 - recall_m: 0.9936 - f1_m: 0.9944 - val_loss: 0.0534 - val_accuracy: 0.9840 - val_precision_m: 0.9734 - val_recall_m: 0.9964 - val_f1_m: 0.9841\n",
      "Epoch 5/15\n",
      "362/362 [==============================] - 2s 4ms/step - loss: 0.0099 - accuracy: 0.9965 - precision_m: 0.9976 - recall_m: 0.9955 - f1_m: 0.9964 - val_loss: 0.0321 - val_accuracy: 0.9906 - val_precision_m: 0.9897 - val_recall_m: 0.9927 - val_f1_m: 0.9907\n",
      "Epoch 6/15\n",
      "362/362 [==============================] - 2s 4ms/step - loss: 0.0065 - accuracy: 0.9983 - precision_m: 0.9989 - recall_m: 0.9974 - f1_m: 0.9981 - val_loss: 0.0306 - val_accuracy: 0.9917 - val_precision_m: 0.9895 - val_recall_m: 0.9942 - val_f1_m: 0.9915\n",
      "Epoch 7/15\n",
      "362/362 [==============================] - 2s 4ms/step - loss: 0.0051 - accuracy: 0.9985 - precision_m: 0.9993 - recall_m: 0.9981 - f1_m: 0.9986 - val_loss: 0.0291 - val_accuracy: 0.9923 - val_precision_m: 0.9940 - val_recall_m: 0.9911 - val_f1_m: 0.9921\n",
      "Epoch 8/15\n",
      "362/362 [==============================] - 2s 4ms/step - loss: 0.0036 - accuracy: 0.9992 - precision_m: 0.9995 - recall_m: 0.9991 - f1_m: 0.9992 - val_loss: 0.0370 - val_accuracy: 0.9911 - val_precision_m: 0.9883 - val_recall_m: 0.9954 - val_f1_m: 0.9914\n",
      "Epoch 9/15\n",
      "362/362 [==============================] - 2s 4ms/step - loss: 0.0022 - accuracy: 0.9993 - precision_m: 0.9994 - recall_m: 0.9992 - f1_m: 0.9992 - val_loss: 0.0331 - val_accuracy: 0.9923 - val_precision_m: 0.9921 - val_recall_m: 0.9937 - val_f1_m: 0.9925\n",
      "Epoch 10/15\n",
      "362/362 [==============================] - 2s 4ms/step - loss: 0.0103 - accuracy: 0.9961 - precision_m: 0.9965 - recall_m: 0.9961 - f1_m: 0.9961 - val_loss: 0.0596 - val_accuracy: 0.9884 - val_precision_m: 0.9825 - val_recall_m: 0.9961 - val_f1_m: 0.9887\n",
      "Epoch 11/15\n",
      "362/362 [==============================] - 2s 4ms/step - loss: 0.0072 - accuracy: 0.9986 - precision_m: 0.9982 - recall_m: 0.9989 - f1_m: 0.9985 - val_loss: 0.0286 - val_accuracy: 0.9939 - val_precision_m: 0.9928 - val_recall_m: 0.9961 - val_f1_m: 0.9941\n",
      "Epoch 12/15\n",
      "362/362 [==============================] - 2s 4ms/step - loss: 0.0029 - accuracy: 0.9989 - precision_m: 0.9997 - recall_m: 0.9981 - f1_m: 0.9989 - val_loss: 0.0327 - val_accuracy: 0.9923 - val_precision_m: 0.9899 - val_recall_m: 0.9961 - val_f1_m: 0.9927\n",
      "Epoch 13/15\n",
      "362/362 [==============================] - 2s 4ms/step - loss: 7.3137e-04 - accuracy: 0.9999 - precision_m: 1.0000 - recall_m: 0.9997 - f1_m: 0.9998 - val_loss: 0.0401 - val_accuracy: 0.9928 - val_precision_m: 0.9913 - val_recall_m: 0.9961 - val_f1_m: 0.9934\n",
      "Epoch 14/15\n",
      "362/362 [==============================] - 2s 4ms/step - loss: 6.1100e-04 - accuracy: 0.9999 - precision_m: 1.0000 - recall_m: 0.9997 - f1_m: 0.9998 - val_loss: 0.0463 - val_accuracy: 0.9934 - val_precision_m: 0.9919 - val_recall_m: 0.9961 - val_f1_m: 0.9937\n",
      "Epoch 15/15\n",
      "362/362 [==============================] - 2s 4ms/step - loss: 8.9273e-04 - accuracy: 0.9999 - precision_m: 1.0000 - recall_m: 0.9997 - f1_m: 0.9999 - val_loss: 0.0477 - val_accuracy: 0.9939 - val_precision_m: 0.9941 - val_recall_m: 0.9951 - val_f1_m: 0.9943\n"
     ]
    }
   ],
   "source": [
    "histCNN2 = CNN2.fit(training_padded, train_labels,\n",
    "                    validation_data=(testing_padded, test_labels),\n",
    "                    epochs=15, batch_size=batch_size)"
   ]
  },
  {
   "cell_type": "code",
   "execution_count": 22,
   "id": "542876b8",
   "metadata": {},
   "outputs": [
    {
     "name": "stdout",
     "output_type": "stream",
     "text": [
      "0.9939125776290894 0.9933026432991028 0.9950600266456604 0.9940406680107117\n"
     ]
    }
   ],
   "source": [
    "loss, accuracy, precision, recall, f1_score = CNN2.evaluate(testing_padded, test_labels, verbose=0)\n",
    "print(accuracy, precision, recall, f1_score)"
   ]
  },
  {
   "cell_type": "markdown",
   "id": "7ff20e50",
   "metadata": {},
   "source": [
    "# Results of 2nd CNN\n",
    "Slightly worse results."
   ]
  },
  {
   "cell_type": "markdown",
   "id": "de9e4cc3",
   "metadata": {},
   "source": [
    "# Potential improvements for all models\n",
    "Have a fixed architecture but tune the learning rate and number of epochs (or even more hyperparameters like kernel sizes ...)\n",
    "For the second CNN, tune dropout rates as well.\n",
    "\n",
    "We are not going to do these improvements, because our model already performs very well, and we would like to understand what's going on \"under the hood\"."
   ]
  },
  {
   "cell_type": "markdown",
   "id": "b662d70e",
   "metadata": {},
   "source": [
    "# Visualizing the word embedders\n",
    "The most straightforward methods would be dimensional reduction methods, that project our 32-dimensional word embedding space into a 2-dimensional space we can visualize.\n",
    "The 2 techniques we'll try are\n",
    "- PCA : Principal component analysis\n",
    "- tSNE"
   ]
  },
  {
   "cell_type": "code",
   "execution_count": 23,
   "id": "65ff9790",
   "metadata": {},
   "outputs": [],
   "source": [
    "from sklearn.manifold import TSNE"
   ]
  },
  {
   "cell_type": "code",
   "execution_count": 24,
   "id": "25f412d9",
   "metadata": {},
   "outputs": [],
   "source": [
    "embed_layer = CNN2.get_layer(CNN2.layers[0].name)\n",
    "embedding = embed_layer.get_weights()\n",
    "embedding = embedding[0] #Otherwise we have a list that contains an array"
   ]
  },
  {
   "cell_type": "code",
   "execution_count": 25,
   "id": "d1a18614",
   "metadata": {},
   "outputs": [
    {
     "name": "stdout",
     "output_type": "stream",
     "text": [
      "(1000, 32)\n"
     ]
    }
   ],
   "source": [
    "print(embedding.shape) #1000 words, including 0 token and token index number 1 for <OOV>"
   ]
  },
  {
   "cell_type": "code",
   "execution_count": 26,
   "id": "72584a33",
   "metadata": {},
   "outputs": [],
   "source": [
    "embeddingTSNE5 = TSNE(n_components=2, learning_rate='auto',\n",
    "                     perplexity=5.0, init='random').fit_transform(embedding)\n",
    "embeddingTSNE30 = TSNE(n_components=2, learning_rate='auto',\n",
    "                     perplexity=30.0, init='random').fit_transform(embedding)"
   ]
  },
  {
   "cell_type": "code",
   "execution_count": 42,
   "id": "fb4f4fac",
   "metadata": {},
   "outputs": [
    {
     "data": {
      "image/png": "[encoded data removed]",
      "text/plain": [
       "<Figure size 432x288 with 1 Axes>"
      ]
     },
     "metadata": {
      "needs_background": "light"
     },
     "output_type": "display_data"
    }
   ],
   "source": [
    "fix, ax = plt.subplots()\n",
    "ax.scatter(embeddingTSNE5[:,0], embeddingTSNE5[:,1])\n",
    "\n",
    "for key, i in word_index.items():\n",
    "    if i <= 25:\n",
    "        ax.annotate(key, (embeddingTSNE5[i-1,0], embeddingTSNE5[i-1,1]))\n",
    "#Interessant de voir qu'il n'y a pas vraiment de structure géométrique qui resort\n",
    "#PAR CONTRE : peut être que des mots proches correspondent à des mots liés à la classification"
   ]
  },
  {
   "cell_type": "code",
   "execution_count": 28,
   "id": "dab36ec7",
   "metadata": {},
   "outputs": [
    {
     "data": {
      "text/plain": [
       "<matplotlib.collections.PathCollection at 0x1d9ec1ef5b0>"
      ]
     },
     "execution_count": 28,
     "metadata": {},
     "output_type": "execute_result"
    },
    {
     "data": {
      "image/png": "[encoded data removed]",
      "text/plain": [
       "<Figure size 432x288 with 1 Axes>"
      ]
     },
     "metadata": {
      "needs_background": "light"
     },
     "output_type": "display_data"
    }
   ],
   "source": [
    "plt.scatter(embeddingTSNE30[:,0], embeddingTSNE30[:,1])"
   ]
  },
  {
   "cell_type": "markdown",
   "id": "7b5d95c1",
   "metadata": {},
   "source": [
    "## Add colors for each word\n",
    "My simplest idea so far : For each sentence, add to each word present in the sentence the prediction confidence of our model on the sentence. Then do an average to rescale at [0,1]. This gives an idea of the \"expected confidence\" when the word is present in the sentence.\n",
    "Close to 0 : means we predict ham confidently. Close to 1 : Predict spam confidently."
   ]
  },
  {
   "cell_type": "code",
   "execution_count": 45,
   "id": "bbc962a5",
   "metadata": {},
   "outputs": [],
   "source": [
    "#vocab_size = 1000\n",
    "word_confidence = np.zeros((vocab_size, 2))\n",
    "\n",
    "confidence_train = CNN2.predict(training_padded, batch_size=32) #Much much faster than observation by observatio\n",
    "L = training_padded.shape[0]\n",
    "for i in range(L):\n",
    "    for token in training_padded[i]:\n",
    "        word_confidence[token, 0] += confidence_train[i]\n",
    "        word_confidence[token, 1] += 1\n",
    "            \n",
    "confidence_test = CNN2.predict(testing_padded, batch_size=32)\n",
    "L = testing_padded.shape[0]\n",
    "for i in range(L):\n",
    "    for token in testing_padded[i]:\n",
    "        word_confidence[token, 0] += confidence_test[i]\n",
    "        word_confidence[token, 1] += 1"
   ]
  },
  {
   "cell_type": "code",
   "execution_count": 46,
   "id": "569a15a0",
   "metadata": {},
   "outputs": [
    {
     "name": "stdout",
     "output_type": "stream",
     "text": [
      "(1000,)\n"
     ]
    }
   ],
   "source": [
    "word_color = np.zeros(vocab_size)\n",
    "for i in range(vocab_size):\n",
    "    if word_confidence[i, 1] == 0.0:\n",
    "        print(\"Should never happen\")\n",
    "        word_color[i] = 0.5 #Neutral\n",
    "    else:\n",
    "        word_color[i] = word_confidence[i,0] / word_confidence[i,1]\n",
    "print(word_color.shape)"
   ]
  },
  {
   "cell_type": "code",
   "execution_count": 31,
   "id": "0136c60f",
   "metadata": {},
   "outputs": [
    {
     "data": {
      "image/png": "[encoded data removed]",
      "text/plain": [
       "<Figure size 432x288 with 1 Axes>"
      ]
     },
     "metadata": {
      "needs_background": "light"
     },
     "output_type": "display_data"
    }
   ],
   "source": [
    "plt.scatter(embeddingTSNE5[:,0], embeddingTSNE5[:,1], c=word_color, cmap='coolwarm')\n",
    "#coolwarm colormap : red = 1 (spam), blue = 0 (ham)\n",
    "plt.show()"
   ]
  },
  {
   "cell_type": "code",
   "execution_count": 32,
   "id": "f2563282",
   "metadata": {},
   "outputs": [
    {
     "data": {
      "image/png": "[encoded data removed]",
      "text/plain": [
       "<Figure size 432x288 with 1 Axes>"
      ]
     },
     "metadata": {
      "needs_background": "light"
     },
     "output_type": "display_data"
    }
   ],
   "source": [
    "plt.scatter(embeddingTSNE30[:,0], embeddingTSNE30[:,1], c=word_color, cmap='coolwarm')\n",
    "plt.show()"
   ]
  },
  {
   "cell_type": "markdown",
   "id": "31df4aff",
   "metadata": {},
   "source": [
    "# Observations about tSNE plots and color\n",
    "We can observe a clear division between the words most commonly associated with spam (deep red) and the ones associated with non-spam (blue) "
   ]
  },
  {
   "cell_type": "code",
   "execution_count": 48,
   "id": "b9eea762",
   "metadata": {},
   "outputs": [
    {
     "data": {
      "text/plain": [
       "0.576982871993988"
      ]
     },
     "execution_count": 48,
     "metadata": {},
     "output_type": "execute_result"
    }
   ],
   "source": [
    "word_color[1] #First word is <OOV> = out of vocabulary token\n",
    "                #As expected, fairly neutral"
   ]
  },
  {
   "cell_type": "code",
   "execution_count": 54,
   "id": "cc2ae673",
   "metadata": {},
   "outputs": [
    {
     "data": {
      "text/plain": [
       "['prize',\n",
       " '£',\n",
       " '150p',\n",
       " 'won',\n",
       " '000',\n",
       " '£1',\n",
       " 'valid',\n",
       " 'weekly',\n",
       " '150',\n",
       " 'cs',\n",
       " '150ppm',\n",
       " '500',\n",
       " '8007',\n",
       " 'national',\n",
       " 'mob',\n",
       " 'awarded',\n",
       " 'sae',\n",
       " 'bonus',\n",
       " 'unsubscribe',\n",
       " 'poly',\n",
       " '£1000',\n",
       " 'entry',\n",
       " 'dating',\n",
       " '08000930705',\n",
       " '800',\n",
       " 'ltd',\n",
       " '£500',\n",
       " '86688',\n",
       " 'expires',\n",
       " 'reward',\n",
       " 'camcorder',\n",
       " 'mobileupd8',\n",
       " '£2',\n",
       " 'winner',\n",
       " '£2000',\n",
       " '08000839402',\n",
       " 'ppm',\n",
       " 'quiz',\n",
       " 'operator',\n",
       " 'suite342',\n",
       " '2lands',\n",
       " 'rental',\n",
       " 'charged',\n",
       " 'standard',\n",
       " '03',\n",
       " 'ipod',\n",
       " 'wap',\n",
       " 'unredeemed',\n",
       " '1000',\n",
       " '04',\n",
       " 'txts',\n",
       " 'dogging',\n",
       " '2004',\n",
       " 'vouchers',\n",
       " 'savamob',\n",
       " '00',\n",
       " '87066',\n",
       " 'charity',\n",
       " '£3',\n",
       " \"c's\",\n",
       " \"uk's\",\n",
       " '£250',\n",
       " 'specially',\n",
       " 'call2optout',\n",
       " 'awaits',\n",
       " '08712460324',\n",
       " 'w1j6hl',\n",
       " '250',\n",
       " 'pobox',\n",
       " '87077',\n",
       " \"week's\",\n",
       " '3030',\n",
       " 'upgrade',\n",
       " 'maximize',\n",
       " 'ldew',\n",
       " 'logo',\n",
       " '08718720201',\n",
       " 'hg',\n",
       " 'credits',\n",
       " 'custcare',\n",
       " '50p',\n",
       " 'getzed',\n",
       " '£10',\n",
       " 'horny',\n",
       " '£350',\n",
       " 'ntt',\n",
       " '2optout',\n",
       " 'tenerife',\n",
       " '62468',\n",
       " 'subscription',\n",
       " '£5000',\n",
       " '28',\n",
       " 'comuk',\n",
       " 'reveal',\n",
       " '08712300220',\n",
       " 'opt',\n",
       " 'ldn',\n",
       " '0870',\n",
       " '25p',\n",
       " 'rates',\n",
       " 'polys',\n",
       " 'zed',\n",
       " 'ts',\n",
       " 'matches',\n",
       " '£200',\n",
       " 'cc',\n",
       " '02',\n",
       " 'age16',\n",
       " 'videophone',\n",
       " 'loyalty',\n",
       " 'holder',\n",
       " 'sp',\n",
       " '06',\n",
       " '1327',\n",
       " 'croydon',\n",
       " 'cr9',\n",
       " '5wb',\n",
       " \"t's\",\n",
       " 'o2',\n",
       " 'urawinner',\n",
       " '£5',\n",
       " 'redeem',\n",
       " 'themob',\n",
       " '£800',\n",
       " 'ec2a',\n",
       " 'pobox36504w45wq',\n",
       " '40gb',\n",
       " 'voda',\n",
       " 'sonyericsson',\n",
       " '300',\n",
       " '05',\n",
       " 'contacted',\n",
       " '5000',\n",
       " '80062',\n",
       " '434',\n",
       " '82277',\n",
       " 'partner',\n",
       " 'largest',\n",
       " 'ip4',\n",
       " 'flag',\n",
       " 'flights',\n",
       " 'redeemed',\n",
       " 'digital',\n",
       " 'mobiles',\n",
       " 'no1',\n",
       " '83355',\n",
       " 'txtauction',\n",
       " 'xchat',\n",
       " '87239',\n",
       " 'paris',\n",
       " 'revealed',\n",
       " '£900',\n",
       " 'invites',\n",
       " '85',\n",
       " 'textpod',\n",
       " '08707509020',\n",
       " 'pence',\n",
       " '3510i',\n",
       " '350',\n",
       " 'awaiting',\n",
       " 'singles',\n",
       " '86021',\n",
       " '83600',\n",
       " 'polyphonic',\n",
       " 'arcade',\n",
       " '36504',\n",
       " 'moby',\n",
       " '85023',\n",
       " 'tncs',\n",
       " \"weekend's\",\n",
       " '5we',\n",
       " 'selection',\n",
       " '12hrs',\n",
       " 'subscriber',\n",
       " 'vodafone',\n",
       " 'december',\n",
       " 'rcvd',\n",
       " 'inc',\n",
       " 'raffle',\n",
       " 'mtmsgrcvd18',\n",
       " 'bx420',\n",
       " 'porn',\n",
       " 'fantasies',\n",
       " 'costa',\n",
       " 'sol',\n",
       " '08001950382',\n",
       " 'fantasy',\n",
       " 'cw25wx',\n",
       " 'harry',\n",
       " '1x150p',\n",
       " 'msgrcvdhg',\n",
       " '400',\n",
       " 'ibiza',\n",
       " '88039',\n",
       " '£400',\n",
       " 'w1',\n",
       " '08712405020',\n",
       " 'pobox84',\n",
       " '£150',\n",
       " 'ntwk',\n",
       " 'sk38xh',\n",
       " '60p',\n",
       " 'w45wq',\n",
       " 'records',\n",
       " '82242',\n",
       " '87131',\n",
       " 'unsub',\n",
       " 'complimentary',\n",
       " 'std',\n",
       " 'spook',\n",
       " 'skilgme',\n",
       " 'star']"
      ]
     },
     "execution_count": 54,
     "metadata": {},
     "output_type": "execute_result"
    }
   ],
   "source": [
    "[w for w,v in word_index.items() if v < vocab_size and word_color[v] == 1.0] #Strongly associated with spam"
   ]
  },
  {
   "cell_type": "markdown",
   "id": "33e4d3fd",
   "metadata": {},
   "source": [
    "# Creating my own message"
   ]
  },
  {
   "cell_type": "code",
   "execution_count": 78,
   "id": "ca939d57",
   "metadata": {},
   "outputs": [
    {
     "name": "stdout",
     "output_type": "stream",
     "text": [
      "Go until jurong point, crazy.. Available only in bugis n great world la e buffet... Cine there got amore wat...\n",
      "<class 'str'>\n",
      "<class 'pandas.core.frame.DataFrame'>\n",
      "<class 'pandas.core.series.Series'>\n",
      "<class 'pandas.core.series.Series'>\n",
      "Go until jurong point, crazy.. Available only in bugis n great world la e buffet... Cine there got amore wat...\n",
      "<class 'str'>\n"
     ]
    }
   ],
   "source": [
    "print(messages['message'][0])\n",
    "print(type(messages['message'][0]))\n",
    "print(type(messages))\n",
    "print(type(messages['message']))\n",
    "\n",
    "print(type(train_msg))\n",
    "print(train_msg[0])\n",
    "print(type(train_msg[0]))"
   ]
  },
  {
   "cell_type": "code",
   "execution_count": 97,
   "id": "e4b91add",
   "metadata": {},
   "outputs": [],
   "source": [
    "new_sentences = [\"Are you free tonight ? I'd like to talk to you\",\n",
    "                'I honestly hate dating so much but my parents are pressuring me so much',\n",
    "                'Dude do you also receive messages saying you won some amazing prize ?',\n",
    "                \"I could never spend £150 on a shirt bro\",\n",
    "                \"Nobel Prizes are awarded in the fields of Physics, Chemistry, Physiology or Medicine, Literature, and Peace\",\n",
    "                \"Congratulations ! You have won an amazing prize\"]"
   ]
  },
  {
   "cell_type": "code",
   "execution_count": 98,
   "id": "9f360fb2",
   "metadata": {},
   "outputs": [],
   "source": [
    "new_sentences2 = pd.Series(new_sentences)"
   ]
  },
  {
   "cell_type": "code",
   "execution_count": 99,
   "id": "2222e773",
   "metadata": {},
   "outputs": [
    {
     "name": "stdout",
     "output_type": "stream",
     "text": [
      "[[27, 3, 13, 373, 1, 82, 2, 336, 2, 3], [6, 1, 1, 266, 44, 234, 59, 32, 1, 27, 1, 23, 44, 234], [1, 41, 3, 322, 127, 227, 1, 3, 73, 215, 953, 40], [6, 309, 571, 1, 943, 16, 4, 1, 1], [1, 1, 27, 224, 15, 5, 1, 17, 1, 1, 1, 18, 1, 1, 9, 1], [297, 3, 19, 73, 108, 953, 40]]\n",
      "\n",
      "\n",
      "[ 27   3  13 373   1  82   2 336   2   3   0   0   0   0   0   0   0   0\n",
      "   0   0   0   0   0   0   0   0   0   0   0   0   0   0   0   0   0   0\n",
      "   0   0   0   0   0   0   0   0   0   0   0   0   0   0]\n"
     ]
    }
   ],
   "source": [
    "new_sequences = tokenizer.texts_to_sequences(new_sentences2)\n",
    "print(new_sequences)\n",
    "print(\"\\n\")\n",
    "new_padded = pad_sequences (new_sequences, maxlen = max_len,\n",
    "                                 padding = padding_type, truncating = trunc_type)\n",
    "print(new_padded[0])"
   ]
  },
  {
   "cell_type": "code",
   "execution_count": 100,
   "id": "ca39afef",
   "metadata": {},
   "outputs": [
    {
     "name": "stdout",
     "output_type": "stream",
     "text": [
      "[[9.54465210e-01]\n",
      " [1.41684711e-12]\n",
      " [1.00000000e+00]\n",
      " [3.20327341e-11]\n",
      " [1.47318915e-05]\n",
      " [1.00000000e+00]]\n"
     ]
    }
   ],
   "source": [
    "new_predict = CNN2.predict(new_padded, batch_size=32)\n",
    "print(new_predict)"
   ]
  },
  {
   "cell_type": "markdown",
   "id": "f1ca9ca7",
   "metadata": {},
   "source": [
    "# Observations from these\n",
    "It's surprisingly hard to trick the model into thinking it's spam\n",
    "\n",
    "There's a LOT of common words the model simply doesn't have. As a result, it replaces those with the <OOV> token. I suspect that it's because the spelling found in SMS is not great and that the dataset dates from around 2006, when texting on phone wasn't a common practice to COMMUNICATE (therefore, most messages were about meeting at a place, ...)"
   ]
  },
  {
   "cell_type": "code",
   "execution_count": 109,
   "id": "edadb8ee",
   "metadata": {},
   "outputs": [],
   "source": [
    "youtube_messages = pd.read_csv(\"C:/Users/thinh/DeepLearning/YoutubeSpamCollection/Youtube01-Psy.csv\",\n",
    "                               sep =',', names=[\"CommentID\", \"Author\", \"Date\", \"message\", \"label\"])\n",
    "youtube_messages = youtube_messages[1:] # First row is for the labels in the .csv files"
   ]
  },
  {
   "cell_type": "code",
   "execution_count": 110,
   "id": "0d275493",
   "metadata": {},
   "outputs": [
    {
     "data": {
      "text/plain": [
       "1      Huh, anyway check out this you[tube] channel: ...\n",
       "2      Hey guys check out my new channel and our firs...\n",
       "3                 just for test I have to say murdev.com\n",
       "4       me shaking my sexy ass on my channel enjoy ^_^ ﻿\n",
       "5                watch?v=vtaRGgvGtWQ   Check this out .﻿\n",
       "                             ...                        \n",
       "346    How can this have 2 billion views when there's...\n",
       "347           I don't now why I'm watching this in 2014﻿\n",
       "348    subscribe to me for call of duty vids and give...\n",
       "349    hi guys please my android photo editor downloa...\n",
       "350    The first billion viewed this because they tho...\n",
       "Name: message, Length: 350, dtype: object"
      ]
     },
     "execution_count": 110,
     "metadata": {},
     "output_type": "execute_result"
    }
   ],
   "source": [
    "youtube_messages['message']"
   ]
  },
  {
   "cell_type": "code",
   "execution_count": 111,
   "id": "4a0afc1d",
   "metadata": {},
   "outputs": [],
   "source": [
    "youtube_sequences = tokenizer.texts_to_sequences(youtube_messages['message'])\n",
    "youtube_padded = pad_sequences(youtube_sequences, maxlen = max_len,\n",
    "                                 padding = padding_type, truncating = trunc_type)"
   ]
  },
  {
   "cell_type": "code",
   "execution_count": 112,
   "id": "462a3351",
   "metadata": {},
   "outputs": [
    {
     "data": {
      "text/plain": [
       "array([  1, 798, 454,  57,  29,   3,   1,   1,   1,   0,   0,   0,   0,\n",
       "         0,   0,   0,   0,   0,   0,   0,   0,   0,   0,   0,   0,   0,\n",
       "         0,   0,   0,   0,   0,   0,   0,   0,   0,   0,   0,   0,   0,\n",
       "         0,   0,   0,   0,   0,   0,   0,   0,   0,   0,   0])"
      ]
     },
     "execution_count": 112,
     "metadata": {},
     "output_type": "execute_result"
    }
   ],
   "source": [
    "youtube_padded[0]"
   ]
  },
  {
   "cell_type": "code",
   "execution_count": 113,
   "id": "c6f34173",
   "metadata": {},
   "outputs": [],
   "source": [
    "youtube_predict = CNN2.predict(youtube_padded, batch_size=32)"
   ]
  },
  {
   "cell_type": "code",
   "execution_count": 153,
   "id": "9d8f5078",
   "metadata": {},
   "outputs": [],
   "source": [
    "youtube_predict2 = [round(youtube_predict[i].item()) for i in range(len(youtube_predict))]\n",
    "youtube_labels = (youtube_messages['label'].map({'0': 0, '1': 1})).values"
   ]
  },
  {
   "cell_type": "code",
   "execution_count": 155,
   "id": "6881ad38",
   "metadata": {},
   "outputs": [],
   "source": [
    "tn, fp, fn, tp = confusion_matrix(youtube_labels,\n",
    "                                 youtube_predict2).ravel()"
   ]
  },
  {
   "cell_type": "code",
   "execution_count": 157,
   "id": "55cbddb5",
   "metadata": {},
   "outputs": [
    {
     "name": "stdout",
     "output_type": "stream",
     "text": [
      "159 16 121 54\n"
     ]
    }
   ],
   "source": [
    "print(tn, fp, fn, tp) #Lots of false negatives : negative = model predicts 0 when it's actually spam"
   ]
  },
  {
   "cell_type": "code",
   "execution_count": 166,
   "id": "48f120ee",
   "metadata": {},
   "outputs": [
    {
     "data": {
      "text/html": [
       "<div>\n",
       "<style scoped>\n",
       "    .dataframe tbody tr th:only-of-type {\n",
       "        vertical-align: middle;\n",
       "    }\n",
       "\n",
       "    .dataframe tbody tr th {\n",
       "        vertical-align: top;\n",
       "    }\n",
       "\n",
       "    .dataframe thead th {\n",
       "        text-align: right;\n",
       "    }\n",
       "</style>\n",
       "<table border=\"1\" class=\"dataframe\">\n",
       "  <thead>\n",
       "    <tr style=\"text-align: right;\">\n",
       "      <th></th>\n",
       "      <th>message</th>\n",
       "      <th>label</th>\n",
       "    </tr>\n",
       "  </thead>\n",
       "  <tbody>\n",
       "    <tr>\n",
       "      <th>151</th>\n",
       "      <td>Oppa! Yeah! Best Song!﻿</td>\n",
       "      <td>0</td>\n",
       "    </tr>\n",
       "    <tr>\n",
       "      <th>152</th>\n",
       "      <td>More... http://www.sunfrogshirts.com/Sunglass-...</td>\n",
       "      <td>1</td>\n",
       "    </tr>\n",
       "    <tr>\n",
       "      <th>153</th>\n",
       "      <td>https://www.facebook.com/teeLaLaLa﻿</td>\n",
       "      <td>1</td>\n",
       "    </tr>\n",
       "    <tr>\n",
       "      <th>154</th>\n",
       "      <td>http://www.twitch.tv/zxlightsoutxz﻿</td>\n",
       "      <td>1</td>\n",
       "    </tr>\n",
       "    <tr>\n",
       "      <th>155</th>\n",
       "      <td>reminds me of this song https://soundcloud.com...</td>\n",
       "      <td>1</td>\n",
       "    </tr>\n",
       "    <tr>\n",
       "      <th>156</th>\n",
       "      <td>What free gift cards? Go here  http://www.swag...</td>\n",
       "      <td>1</td>\n",
       "    </tr>\n",
       "    <tr>\n",
       "      <th>157</th>\n",
       "      <td>Search \"Chubbz Dinero - Ready Or Not \" Thanks ﻿</td>\n",
       "      <td>1</td>\n",
       "    </tr>\n",
       "    <tr>\n",
       "      <th>158</th>\n",
       "      <td>Follow me on Twitter @mscalifornia95﻿</td>\n",
       "      <td>1</td>\n",
       "    </tr>\n",
       "    <tr>\n",
       "      <th>159</th>\n",
       "      <td>😫😓😏😪😔😖😌😭😎😚😘😙😗😋😝😜😛😍😒😞😷😶😵😳😲😱😟😰😩😨😧😦😥😤😣😮😴😢😡😠😬😕😑😐😯😉...</td>\n",
       "      <td>0</td>\n",
       "    </tr>\n",
       "    <tr>\n",
       "      <th>160</th>\n",
       "      <td>▬▬▬▬▬▬▬▬▬▬ஜ۩۞۩ஜ▬▬▬▬▬▬▬▬ ＤＡＭＮ ＴＨＩＳ ＣＯＭＭＥＮＴ ＩＳ Ｆ...</td>\n",
       "      <td>0</td>\n",
       "    </tr>\n",
       "  </tbody>\n",
       "</table>\n",
       "</div>"
      ],
      "text/plain": [
       "                                               message label\n",
       "151                            Oppa! Yeah! Best Song!﻿     0\n",
       "152  More... http://www.sunfrogshirts.com/Sunglass-...     1\n",
       "153                https://www.facebook.com/teeLaLaLa﻿     1\n",
       "154                http://www.twitch.tv/zxlightsoutxz﻿     1\n",
       "155  reminds me of this song https://soundcloud.com...     1\n",
       "156  What free gift cards? Go here  http://www.swag...     1\n",
       "157    Search \"Chubbz Dinero - Ready Or Not \" Thanks ﻿     1\n",
       "158              Follow me on Twitter @mscalifornia95﻿     1\n",
       "159  😫😓😏😪😔😖😌😭😎😚😘😙😗😋😝😜😛😍😒😞😷😶😵😳😲😱😟😰😩😨😧😦😥😤😣😮😴😢😡😠😬😕😑😐😯😉...     0\n",
       "160  ▬▬▬▬▬▬▬▬▬▬ஜ۩۞۩ஜ▬▬▬▬▬▬▬▬ ＤＡＭＮ ＴＨＩＳ ＣＯＭＭＥＮＴ ＩＳ Ｆ...     0"
      ]
     },
     "execution_count": 166,
     "metadata": {},
     "output_type": "execute_result"
    }
   ],
   "source": [
    "youtube_messages[['message', 'label']][150:160] #2 brackets"
   ]
  },
  {
   "cell_type": "markdown",
   "id": "07248353",
   "metadata": {},
   "source": [
    "# Trying to understand why it doesn't work great on youtube dataset\n",
    "I would say :\n",
    "- Lack of vocabulary (lots of words being projected onto <OOV> token)\n",
    "- Lacks the detection of **youtube spam** features. Spam emails tend to be about how you \"won\" something and that you need to call a number, whereas spam on youtube seems to be about checking out someone's channel or clicking on a link"
   ]
  }
 ],
 "metadata": {
  "kernelspec": {
   "display_name": "Python 3 (ipykernel)",
   "language": "python",
   "name": "python3"
  },
  "language_info": {
   "codemirror_mode": {
    "name": "ipython",
    "version": 3
   },
   "file_extension": ".py",
   "mimetype": "text/x-python",
   "name": "python",
   "nbconvert_exporter": "python",
   "pygments_lexer": "ipython3",
   "version": "3.9.7"
  }
 },
 "nbformat": 4,
 "nbformat_minor": 5
}
