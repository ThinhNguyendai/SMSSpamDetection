{
 "cells": [
  {
   "cell_type": "markdown",
   "id": "445f6e12",
   "metadata": {},
   "source": [
    "# Building 3 neural networks to classify spam messages"
   ]
  },
  {
   "cell_type": "code",
   "execution_count": 1,
   "id": "016fc686",
   "metadata": {},
   "outputs": [],
   "source": [
    "import matplotlib.pyplot as plt\n",
    "import numpy as np\n",
    "import pandas as pd\n",
    "\n",
    "#Text processing\n",
    "import tensorflow as tf # conda install -c conda-forge tensorflow\n",
    "from tensorflow.keras.preprocessing.text import Tokenizer\n",
    "from tensorflow.keras.preprocessing.sequence import pad_sequences\n",
    "\n",
    "#Deep learning\n",
    "from sklearn.model_selection import train_test_split, GridSearchCV\n",
    "from sklearn.metrics import confusion_matrix\n",
    "\n",
    "from tensorflow.keras.models import Sequential\n",
    "from tensorflow.keras.layers import Dense, Flatten, Embedding, Dropout\n",
    "from tensorflow.keras.layers import Conv1D, MaxPooling1D #CNN specific"
   ]
  },
  {
   "cell_type": "code",
   "execution_count": 2,
   "id": "01035b0f",
   "metadata": {},
   "outputs": [],
   "source": [
    "url = \"https://raw.githubusercontent.com/ThinhNguyendai/SMSSpamDetection/main/SMSSpamCollection\"\n",
    "messages = pd.read_csv(url, sep ='\\t', names=[\"label\", \"message\"])\n",
    "messages = messages.drop_duplicates()\n",
    "\n",
    "#Oversampled + Original copy of spam\n",
    "url2 = \"https://raw.githubusercontent.com/ThinhNguyendai/SMSSpamDetection/main/BacktranslatedSpam\"\n",
    "new_spam = pd.read_csv(url2, sep ='\\t', names=[\"message\"]) # No label like the usual file here\n",
    "spam_labels = [\"spam\" for i in range(len(new_spam))]\n",
    "new_spam.insert(0, \"label\", spam_labels, allow_duplicates=True)"
   ]
  },
  {
   "cell_type": "code",
   "execution_count": 3,
   "id": "f43f692d",
   "metadata": {},
   "outputs": [
    {
     "name": "stdout",
     "output_type": "stream",
     "text": [
      "4516 4571\n"
     ]
    }
   ],
   "source": [
    "ham_msg = messages[messages.label =='ham']\n",
    "print(len(ham_msg), len(new_spam))"
   ]
  },
  {
   "cell_type": "code",
   "execution_count": 4,
   "id": "bc28cc22",
   "metadata": {},
   "outputs": [
    {
     "data": {
      "text/html": [
       "<div>\n",
       "<style scoped>\n",
       "    .dataframe tbody tr th:only-of-type {\n",
       "        vertical-align: middle;\n",
       "    }\n",
       "\n",
       "    .dataframe tbody tr th {\n",
       "        vertical-align: top;\n",
       "    }\n",
       "\n",
       "    .dataframe thead th {\n",
       "        text-align: right;\n",
       "    }\n",
       "</style>\n",
       "<table border=\"1\" class=\"dataframe\">\n",
       "  <thead>\n",
       "    <tr style=\"text-align: right;\">\n",
       "      <th></th>\n",
       "      <th>label</th>\n",
       "      <th>message</th>\n",
       "    </tr>\n",
       "  </thead>\n",
       "  <tbody>\n",
       "    <tr>\n",
       "      <th>0</th>\n",
       "      <td>ham</td>\n",
       "      <td>Go until jurong point, crazy.. Available only ...</td>\n",
       "    </tr>\n",
       "    <tr>\n",
       "      <th>1</th>\n",
       "      <td>ham</td>\n",
       "      <td>Ok lar... Joking wif u oni...</td>\n",
       "    </tr>\n",
       "    <tr>\n",
       "      <th>2</th>\n",
       "      <td>ham</td>\n",
       "      <td>U dun say so early hor... U c already then say...</td>\n",
       "    </tr>\n",
       "    <tr>\n",
       "      <th>3</th>\n",
       "      <td>ham</td>\n",
       "      <td>Nah I don't think he goes to usf, he lives aro...</td>\n",
       "    </tr>\n",
       "    <tr>\n",
       "      <th>4</th>\n",
       "      <td>ham</td>\n",
       "      <td>Even my brother is not like to speak with me. ...</td>\n",
       "    </tr>\n",
       "    <tr>\n",
       "      <th>...</th>\n",
       "      <td>...</td>\n",
       "      <td>...</td>\n",
       "    </tr>\n",
       "    <tr>\n",
       "      <th>9027</th>\n",
       "      <td>spam</td>\n",
       "      <td>&lt;Redirected from 21870000&gt;Hello, this is your...</td>\n",
       "    </tr>\n",
       "    <tr>\n",
       "      <th>9028</th>\n",
       "      <td>spam</td>\n",
       "      <td>don't know you and you don't know me. Send CH...</td>\n",
       "    </tr>\n",
       "    <tr>\n",
       "      <th>9029</th>\n",
       "      <td>spam</td>\n",
       "      <td>You can stop more club tones by answering \"ST...</td>\n",
       "    </tr>\n",
       "    <tr>\n",
       "      <th>9030</th>\n",
       "      <td>spam</td>\n",
       "      <td>Latest news! Police station toilet stolen, po...</td>\n",
       "    </tr>\n",
       "    <tr>\n",
       "      <th>9031</th>\n",
       "      <td>spam</td>\n",
       "      <td>FreeMSG You have been awarded a FREE DIGITAL ...</td>\n",
       "    </tr>\n",
       "  </tbody>\n",
       "</table>\n",
       "<p>9032 rows × 2 columns</p>\n",
       "</div>"
      ],
      "text/plain": [
       "     label                                            message\n",
       "0      ham  Go until jurong point, crazy.. Available only ...\n",
       "1      ham                      Ok lar... Joking wif u oni...\n",
       "2      ham  U dun say so early hor... U c already then say...\n",
       "3      ham  Nah I don't think he goes to usf, he lives aro...\n",
       "4      ham  Even my brother is not like to speak with me. ...\n",
       "...    ...                                                ...\n",
       "9027  spam   <Redirected from 21870000>Hello, this is your...\n",
       "9028  spam   don't know you and you don't know me. Send CH...\n",
       "9029  spam   You can stop more club tones by answering \"ST...\n",
       "9030  spam   Latest news! Police station toilet stolen, po...\n",
       "9031  spam   FreeMSG You have been awarded a FREE DIGITAL ...\n",
       "\n",
       "[9032 rows x 2 columns]"
      ]
     },
     "execution_count": 4,
     "metadata": {},
     "output_type": "execute_result"
    }
   ],
   "source": [
    "new_spam_df = new_spam.sample(n = len(ham_msg), random_state = 754)\n",
    "msg_df = pd.concat([ham_msg, new_spam_df])\n",
    "msg_df.reset_index(drop=True)"
   ]
  },
  {
   "cell_type": "code",
   "execution_count": 5,
   "id": "b0d8f58e",
   "metadata": {},
   "outputs": [],
   "source": [
    "msg_labels = (msg_df['label'].map({'ham': 0, 'spam': 1})).values\n",
    "train_msg, test_msg, train_labels, test_labels = train_test_split(msg_df['message'],\n",
    "                                                                  msg_labels,\n",
    "                                                                  test_size=0.2,\n",
    "                                                                  random_state=705)"
   ]
  },
  {
   "cell_type": "code",
   "execution_count": 6,
   "id": "598c135f",
   "metadata": {},
   "outputs": [],
   "source": [
    "#Tokenizer : turn words into integers\n",
    "oov_tok = \"<OOV>\" # What to replace words that are not in the vocabulary with\n",
    "vocab_size = 1000 # Maximum number of uniques words for tokenizer\n",
    "\n",
    "tokenizer = Tokenizer(num_words = vocab_size,\n",
    "                      char_level=False, # Work words by word\n",
    "                      oov_token = oov_tok)\n",
    "tokenizer.fit_on_texts(train_msg)"
   ]
  },
  {
   "cell_type": "markdown",
   "id": "a5b73b72",
   "metadata": {},
   "source": [
    "# Discussion of hyper parameters of tokenizer\n",
    "vocab_size equal to 500 means we drop 30% of the words in total (counting duplicates)\n",
    "\n",
    "vocab_size equal to 1000 means we drop 20% of the words in total\n",
    "\n",
    "\n",
    "When it comes to length of sentences, with a max_len of 50 we get more than 99.2% of the sentences, which makes it sufficiently long."
   ]
  },
  {
   "cell_type": "code",
   "execution_count": 7,
   "id": "15f98181",
   "metadata": {},
   "outputs": [
    {
     "data": {
      "text/plain": [
       "8863"
      ]
     },
     "execution_count": 7,
     "metadata": {},
     "output_type": "execute_result"
    }
   ],
   "source": [
    "word_index = tokenizer.word_index\n",
    "len(word_index)"
   ]
  },
  {
   "cell_type": "code",
   "execution_count": 8,
   "id": "9aeac48c",
   "metadata": {},
   "outputs": [],
   "source": [
    "# Sequencing and padding on training and testing \n",
    "max_len = 50 # Max number of tokens, used with truncating and padding\n",
    "trunc_type = \"post\" # Truncates sequences of tokens that are longer than max_len, post=right side\n",
    "padding_type = \"post\" # Pads AFTER (with post) if sequence is shorter than max_len\n",
    "\n",
    "training_sequences = tokenizer.texts_to_sequences(train_msg)\n",
    "training_padded = pad_sequences (training_sequences, maxlen = max_len,\n",
    "                                 padding = padding_type, truncating = trunc_type)\n",
    "\n",
    "testing_sequences = tokenizer.texts_to_sequences(test_msg)\n",
    "testing_padded = pad_sequences(testing_sequences, maxlen = max_len,\n",
    "                               padding = padding_type, truncating = trunc_type)"
   ]
  },
  {
   "cell_type": "code",
   "execution_count": 9,
   "id": "8eb14bd6",
   "metadata": {},
   "outputs": [
    {
     "name": "stdout",
     "output_type": "stream",
     "text": [
      "Shape of training array:  (7225, 50)\n",
      "Shape of testing array:  (1807, 50)\n",
      "<class 'numpy.ndarray'>\n",
      "<class 'numpy.ndarray'>\n"
     ]
    }
   ],
   "source": [
    "print('Shape of training array: ', training_padded.shape)\n",
    "print('Shape of testing array: ', testing_padded.shape)\n",
    "print(type(training_padded))\n",
    "print(type(train_labels))"
   ]
  },
  {
   "cell_type": "code",
   "execution_count": 10,
   "id": "80ef4e14",
   "metadata": {},
   "outputs": [],
   "source": [
    "#F1 score is not defined in Keras\n",
    "#From https://datascience.stackexchange.com/questions/45165/how-to-get-accuracy-f1-precision-and-recall-for-a-keras-model\n",
    "from tensorflow.keras import backend as K\n",
    "def recall_m(y_true, y_pred):\n",
    "    true_positives = K.sum(K.round(K.clip(y_true * y_pred, 0, 1)))\n",
    "    possible_positives = K.sum(K.round(K.clip(y_true, 0, 1)))\n",
    "    recall = true_positives / (possible_positives + K.epsilon())\n",
    "    return recall\n",
    "\n",
    "def precision_m(y_true, y_pred):\n",
    "    true_positives = K.sum(K.round(K.clip(y_true * y_pred, 0, 1)))\n",
    "    predicted_positives = K.sum(K.round(K.clip(y_pred, 0, 1)))\n",
    "    precision = true_positives / (predicted_positives + K.epsilon())\n",
    "    return precision\n",
    "\n",
    "def f1_m(y_true, y_pred):\n",
    "    precision = precision_m(y_true, y_pred)\n",
    "    recall = recall_m(y_true, y_pred)\n",
    "    return 2*((precision*recall)/(precision+recall+K.epsilon()))"
   ]
  },
  {
   "cell_type": "markdown",
   "id": "27e3f7df",
   "metadata": {},
   "source": [
    "### Keras functions to define neural network\n",
    "Embedding layer takes as input a vector of length *input_length* of **integers**, where the integers are between 0 and *vocab_size-1* (both bounds included). The output is a matrix of dimensions *input_length* * *output_dim*. In other words, each input neuron is projected into a space of dimension *output_dim*.\n",
    "\n",
    "The flatten layer flattens the 2D output into a 1D array\n",
    "\n",
    "Dense layer is another name for the regular fully connected layer."
   ]
  },
  {
   "cell_type": "code",
   "execution_count": 11,
   "id": "eaf1cb00",
   "metadata": {},
   "outputs": [
    {
     "name": "stdout",
     "output_type": "stream",
     "text": [
      "Model: \"sequential\"\n",
      "_________________________________________________________________\n",
      "Layer (type)                 Output Shape              Param #   \n",
      "=================================================================\n",
      "embedding (Embedding)        (None, 50, 32)            32000     \n",
      "_________________________________________________________________\n",
      "flatten (Flatten)            (None, 1600)              0         \n",
      "_________________________________________________________________\n",
      "dense (Dense)                (None, 128)               204928    \n",
      "_________________________________________________________________\n",
      "dense_1 (Dense)              (None, 1)                 129       \n",
      "=================================================================\n",
      "Total params: 237,057\n",
      "Trainable params: 237,057\n",
      "Non-trainable params: 0\n",
      "_________________________________________________________________\n"
     ]
    }
   ],
   "source": [
    "#vocab_size = 1000\n",
    "#max_len = 50\n",
    "embedding_dim = 32\n",
    "batch_size = 20\n",
    "fc_size = 128\n",
    "\n",
    "model = Sequential()\n",
    "model.add(Embedding(vocab_size, embedding_dim, input_length = max_len))\n",
    "model.add(Flatten())\n",
    "model.add(Dense(fc_size, activation='relu'))\n",
    "model.add(Dense(1, activation='sigmoid'))\n",
    "model.compile(optimizer='adam', loss='binary_crossentropy', metrics=['accuracy', precision_m, recall_m, f1_m])\n",
    "model.summary()"
   ]
  },
  {
   "cell_type": "code",
   "execution_count": 12,
   "id": "35e33c48",
   "metadata": {},
   "outputs": [
    {
     "name": "stdout",
     "output_type": "stream",
     "text": [
      "Epoch 1/15\n",
      "289/289 [==============================] - 2s 4ms/step - loss: 0.1736 - accuracy: 0.9356 - precision_m: 0.9462 - recall_m: 0.9295 - f1_m: 0.9337 - val_loss: 0.0559 - val_accuracy: 0.9806 - val_precision_m: 0.9876 - val_recall_m: 0.9755 - val_f1_m: 0.9805\n",
      "Epoch 2/15\n",
      "289/289 [==============================] - 1s 2ms/step - loss: 0.0314 - accuracy: 0.9891 - precision_m: 0.9923 - recall_m: 0.9855 - f1_m: 0.9881 - val_loss: 0.0406 - val_accuracy: 0.9855 - val_precision_m: 0.9819 - val_recall_m: 0.9905 - val_f1_m: 0.9855\n",
      "Epoch 3/15\n",
      "289/289 [==============================] - 1s 3ms/step - loss: 0.0091 - accuracy: 0.9978 - precision_m: 0.9989 - recall_m: 0.9967 - f1_m: 0.9977 - val_loss: 0.0361 - val_accuracy: 0.9869 - val_precision_m: 0.9848 - val_recall_m: 0.9903 - val_f1_m: 0.9869\n",
      "Epoch 4/15\n",
      "289/289 [==============================] - 1s 3ms/step - loss: 0.0038 - accuracy: 0.9995 - precision_m: 1.0000 - recall_m: 0.9989 - f1_m: 0.9994 - val_loss: 0.0519 - val_accuracy: 0.9834 - val_precision_m: 0.9759 - val_recall_m: 0.9930 - val_f1_m: 0.9837\n",
      "Epoch 5/15\n",
      "289/289 [==============================] - 1s 3ms/step - loss: 0.0026 - accuracy: 0.9997 - precision_m: 1.0000 - recall_m: 0.9993 - f1_m: 0.9996 - val_loss: 0.0400 - val_accuracy: 0.9862 - val_precision_m: 0.9813 - val_recall_m: 0.9930 - val_f1_m: 0.9865\n",
      "Epoch 6/15\n",
      "289/289 [==============================] - 1s 3ms/step - loss: 0.0020 - accuracy: 0.9997 - precision_m: 1.0000 - recall_m: 0.9996 - f1_m: 0.9998 - val_loss: 0.0380 - val_accuracy: 0.9875 - val_precision_m: 0.9862 - val_recall_m: 0.9903 - val_f1_m: 0.9876\n",
      "Epoch 7/15\n",
      "289/289 [==============================] - 1s 3ms/step - loss: 0.0018 - accuracy: 0.9997 - precision_m: 0.9997 - recall_m: 0.9996 - f1_m: 0.9996 - val_loss: 0.0385 - val_accuracy: 0.9869 - val_precision_m: 0.9848 - val_recall_m: 0.9903 - val_f1_m: 0.9869\n",
      "Epoch 8/15\n",
      "289/289 [==============================] - 1s 3ms/step - loss: 0.0013 - accuracy: 0.9998 - precision_m: 1.0000 - recall_m: 0.9997 - f1_m: 0.9998 - val_loss: 0.0748 - val_accuracy: 0.9779 - val_precision_m: 0.9624 - val_recall_m: 0.9957 - val_f1_m: 0.9778\n",
      "Epoch 9/15\n",
      "289/289 [==============================] - 1s 3ms/step - loss: 0.0013 - accuracy: 0.9997 - precision_m: 0.9997 - recall_m: 0.9997 - f1_m: 0.9997 - val_loss: 0.0386 - val_accuracy: 0.9882 - val_precision_m: 0.9860 - val_recall_m: 0.9920 - val_f1_m: 0.9885\n",
      "Epoch 10/15\n",
      "289/289 [==============================] - 1s 3ms/step - loss: 0.0012 - accuracy: 0.9997 - precision_m: 0.9997 - recall_m: 0.9995 - f1_m: 0.9996 - val_loss: 0.0408 - val_accuracy: 0.9882 - val_precision_m: 0.9877 - val_recall_m: 0.9903 - val_f1_m: 0.9885\n",
      "Epoch 11/15\n",
      "289/289 [==============================] - 1s 3ms/step - loss: 0.0012 - accuracy: 0.9998 - precision_m: 1.0000 - recall_m: 0.9996 - f1_m: 0.9998 - val_loss: 0.0379 - val_accuracy: 0.9903 - val_precision_m: 0.9942 - val_recall_m: 0.9871 - val_f1_m: 0.9901\n",
      "Epoch 12/15\n",
      "289/289 [==============================] - 1s 3ms/step - loss: 0.0011 - accuracy: 0.9997 - precision_m: 0.9997 - recall_m: 0.9997 - f1_m: 0.9997 - val_loss: 0.0405 - val_accuracy: 0.9875 - val_precision_m: 0.9853 - val_recall_m: 0.9920 - val_f1_m: 0.9881\n",
      "Epoch 13/15\n",
      "289/289 [==============================] - 1s 3ms/step - loss: 0.0013 - accuracy: 0.9997 - precision_m: 0.9997 - recall_m: 0.9996 - f1_m: 0.9996 - val_loss: 0.0437 - val_accuracy: 0.9869 - val_precision_m: 0.9844 - val_recall_m: 0.9913 - val_f1_m: 0.9872\n",
      "Epoch 14/15\n",
      "289/289 [==============================] - 1s 3ms/step - loss: 0.0015 - accuracy: 0.9997 - precision_m: 0.9996 - recall_m: 0.9997 - f1_m: 0.9996 - val_loss: 0.0413 - val_accuracy: 0.9903 - val_precision_m: 0.9888 - val_recall_m: 0.9930 - val_f1_m: 0.9904\n",
      "Epoch 15/15\n",
      "289/289 [==============================] - 1s 3ms/step - loss: 9.7528e-04 - accuracy: 0.9998 - precision_m: 1.0000 - recall_m: 0.9997 - f1_m: 0.9998 - val_loss: 0.0474 - val_accuracy: 0.9862 - val_precision_m: 0.9827 - val_recall_m: 0.9913 - val_f1_m: 0.9863\n"
     ]
    }
   ],
   "source": [
    "hist = model.fit(training_padded, train_labels, validation_split=0.2, epochs=15, batch_size=batch_size)"
   ]
  },
  {
   "cell_type": "code",
   "execution_count": 13,
   "id": "674e50c0",
   "metadata": {},
   "outputs": [
    {
     "name": "stdout",
     "output_type": "stream",
     "text": [
      "0.9912656545639038 0.9899476766586304 0.9903498888015747\n"
     ]
    }
   ],
   "source": [
    "loss, accuracy, f1_score, precision, recall = model.evaluate(testing_padded, test_labels, verbose=0)\n",
    "print(f1_score, precision, recall)"
   ]
  },
  {
   "cell_type": "markdown",
   "id": "dd88dac9",
   "metadata": {},
   "source": [
    "## Commenting on results\n",
    "This new neural network performs significantly better.\n",
    "It's difficult to say whether it's due to simply using more parameters or the embedding layer, but the results are there.\n",
    "\n",
    "**Might be worth checking whether the choices of hyperparameters make sense**. Max_len and vocab_size might no longer be appropriate for this new dataset."
   ]
  },
  {
   "cell_type": "markdown",
   "id": "f2a8ffac",
   "metadata": {},
   "source": [
    "# Convolutional neural network\n",
    "Trying out another technique to see if we can improve our model"
   ]
  },
  {
   "cell_type": "code",
   "execution_count": 14,
   "id": "1419920b",
   "metadata": {},
   "outputs": [],
   "source": [
    "#vocab_size = 1000\n",
    "#max_len = 50\n",
    "embedding_dim = 32\n",
    "batch_size = 20\n",
    "\n",
    "conv1_size = 32\n",
    "fc_size = 64 "
   ]
  },
  {
   "cell_type": "code",
   "execution_count": 15,
   "id": "462d5315",
   "metadata": {},
   "outputs": [
    {
     "name": "stdout",
     "output_type": "stream",
     "text": [
      "Model: \"sequential_1\"\n",
      "_________________________________________________________________\n",
      "Layer (type)                 Output Shape              Param #   \n",
      "=================================================================\n",
      "embedding_1 (Embedding)      (None, 50, 32)            32000     \n",
      "_________________________________________________________________\n",
      "conv1d (Conv1D)              (None, 48, 32)            3104      \n",
      "_________________________________________________________________\n",
      "max_pooling1d (MaxPooling1D) (None, 24, 32)            0         \n",
      "_________________________________________________________________\n",
      "flatten_1 (Flatten)          (None, 768)               0         \n",
      "_________________________________________________________________\n",
      "dense_2 (Dense)              (None, 64)                49216     \n",
      "_________________________________________________________________\n",
      "dense_3 (Dense)              (None, 1)                 65        \n",
      "=================================================================\n",
      "Total params: 84,385\n",
      "Trainable params: 84,385\n",
      "Non-trainable params: 0\n",
      "_________________________________________________________________\n"
     ]
    }
   ],
   "source": [
    "CNN = Sequential()\n",
    "CNN.add(Embedding(vocab_size, embedding_dim, input_length=max_len))\n",
    "# No flatten because Conv1D input is formatted this way\n",
    "CNN.add(Conv1D(conv1_size, 3, activation='relu'))\n",
    "CNN.add(MaxPooling1D(pool_size=2))\n",
    "CNN.add(Flatten())\n",
    "CNN.add(Dense(fc_size, activation='relu'))\n",
    "CNN.add(Dense(1, activation='sigmoid'))\n",
    "CNN.compile(optimizer='adam', loss='binary_crossentropy', metrics=['accuracy', precision_m, recall_m, f1_m])\n",
    "CNN.summary()"
   ]
  },
  {
   "cell_type": "code",
   "execution_count": 16,
   "id": "5bc31d19",
   "metadata": {},
   "outputs": [
    {
     "name": "stdout",
     "output_type": "stream",
     "text": [
      "Epoch 1/15\n",
      "289/289 [==============================] - 2s 4ms/step - loss: 0.1712 - accuracy: 0.9332 - precision_m: 0.9430 - recall_m: 0.9289 - f1_m: 0.9314 - val_loss: 0.0513 - val_accuracy: 0.9855 - val_precision_m: 0.9880 - val_recall_m: 0.9842 - val_f1_m: 0.9852\n",
      "Epoch 2/15\n",
      "289/289 [==============================] - 1s 3ms/step - loss: 0.0358 - accuracy: 0.9884 - precision_m: 0.9927 - recall_m: 0.9835 - f1_m: 0.9875 - val_loss: 0.0412 - val_accuracy: 0.9869 - val_precision_m: 0.9831 - val_recall_m: 0.9923 - val_f1_m: 0.9868\n",
      "Epoch 3/15\n",
      "289/289 [==============================] - 1s 3ms/step - loss: 0.0157 - accuracy: 0.9958 - precision_m: 0.9976 - recall_m: 0.9941 - f1_m: 0.9956 - val_loss: 0.0402 - val_accuracy: 0.9903 - val_precision_m: 0.9914 - val_recall_m: 0.9908 - val_f1_m: 0.9906\n",
      "Epoch 4/15\n",
      "289/289 [==============================] - 1s 3ms/step - loss: 0.0088 - accuracy: 0.9976 - precision_m: 0.9988 - recall_m: 0.9961 - f1_m: 0.9973 - val_loss: 0.0420 - val_accuracy: 0.9882 - val_precision_m: 0.9902 - val_recall_m: 0.9868 - val_f1_m: 0.9877\n",
      "Epoch 5/15\n",
      "289/289 [==============================] - 1s 3ms/step - loss: 0.0058 - accuracy: 0.9984 - precision_m: 0.9990 - recall_m: 0.9978 - f1_m: 0.9983 - val_loss: 0.0608 - val_accuracy: 0.9848 - val_precision_m: 0.9754 - val_recall_m: 0.9961 - val_f1_m: 0.9850\n",
      "Epoch 6/15\n",
      "289/289 [==============================] - 1s 3ms/step - loss: 0.0022 - accuracy: 0.9997 - precision_m: 1.0000 - recall_m: 0.9994 - f1_m: 0.9997 - val_loss: 0.0465 - val_accuracy: 0.9903 - val_precision_m: 0.9879 - val_recall_m: 0.9948 - val_f1_m: 0.9908\n",
      "Epoch 7/15\n",
      "289/289 [==============================] - 1s 3ms/step - loss: 0.0014 - accuracy: 0.9998 - precision_m: 1.0000 - recall_m: 0.9996 - f1_m: 0.9998 - val_loss: 0.0540 - val_accuracy: 0.9903 - val_precision_m: 0.9864 - val_recall_m: 0.9961 - val_f1_m: 0.9908\n",
      "Epoch 8/15\n",
      "289/289 [==============================] - 1s 3ms/step - loss: 0.0014 - accuracy: 0.9998 - precision_m: 1.0000 - recall_m: 0.9997 - f1_m: 0.9999 - val_loss: 0.0489 - val_accuracy: 0.9896 - val_precision_m: 0.9879 - val_recall_m: 0.9934 - val_f1_m: 0.9900\n",
      "Epoch 9/15\n",
      "289/289 [==============================] - 1s 3ms/step - loss: 0.0012 - accuracy: 0.9998 - precision_m: 1.0000 - recall_m: 0.9996 - f1_m: 0.9998 - val_loss: 0.0494 - val_accuracy: 0.9889 - val_precision_m: 0.9879 - val_recall_m: 0.9920 - val_f1_m: 0.9892\n",
      "Epoch 10/15\n",
      "289/289 [==============================] - 1s 3ms/step - loss: 0.0010 - accuracy: 0.9998 - precision_m: 1.0000 - recall_m: 0.9996 - f1_m: 0.9998 - val_loss: 0.0545 - val_accuracy: 0.9896 - val_precision_m: 0.9864 - val_recall_m: 0.9948 - val_f1_m: 0.9901\n",
      "Epoch 11/15\n",
      "289/289 [==============================] - 1s 3ms/step - loss: 8.8860e-04 - accuracy: 0.9998 - precision_m: 1.0000 - recall_m: 0.9996 - f1_m: 0.9998 - val_loss: 0.0510 - val_accuracy: 0.9896 - val_precision_m: 0.9891 - val_recall_m: 0.9920 - val_f1_m: 0.9899\n",
      "Epoch 12/15\n",
      "289/289 [==============================] - 1s 3ms/step - loss: 7.6445e-04 - accuracy: 0.9998 - precision_m: 1.0000 - recall_m: 0.9997 - f1_m: 0.9998 - val_loss: 0.0529 - val_accuracy: 0.9910 - val_precision_m: 0.9919 - val_recall_m: 0.9920 - val_f1_m: 0.9914\n",
      "Epoch 13/15\n",
      "289/289 [==============================] - 1s 3ms/step - loss: 6.6886e-04 - accuracy: 0.9998 - precision_m: 1.0000 - recall_m: 0.9997 - f1_m: 0.9998 - val_loss: 0.0543 - val_accuracy: 0.9910 - val_precision_m: 0.9919 - val_recall_m: 0.9920 - val_f1_m: 0.9914\n",
      "Epoch 14/15\n",
      "289/289 [==============================] - 1s 3ms/step - loss: 7.7756e-04 - accuracy: 0.9997 - precision_m: 0.9997 - recall_m: 0.9996 - f1_m: 0.9996 - val_loss: 0.0556 - val_accuracy: 0.9903 - val_precision_m: 0.9903 - val_recall_m: 0.9920 - val_f1_m: 0.9906\n",
      "Epoch 15/15\n",
      "289/289 [==============================] - 1s 3ms/step - loss: 5.7507e-04 - accuracy: 0.9998 - precision_m: 1.0000 - recall_m: 0.9997 - f1_m: 0.9998 - val_loss: 0.0564 - val_accuracy: 0.9910 - val_precision_m: 0.9915 - val_recall_m: 0.9920 - val_f1_m: 0.9912\n"
     ]
    }
   ],
   "source": [
    "histCNN = CNN.fit(training_padded, train_labels, validation_split=0.2, epochs=15, batch_size=batch_size)"
   ]
  },
  {
   "cell_type": "code",
   "execution_count": 17,
   "id": "3546ac22",
   "metadata": {
    "scrolled": true
   },
   "outputs": [
    {
     "name": "stdout",
     "output_type": "stream",
     "text": [
      "0.9910043478012085 0.9889355301856995 0.989652693271637\n"
     ]
    }
   ],
   "source": [
    "loss, accuracy, f1_score, precision, recall = CNN.evaluate(testing_padded, test_labels, verbose=0)\n",
    "print(f1_score, precision, recall)"
   ]
  },
  {
   "cell_type": "markdown",
   "id": "f3932d3a",
   "metadata": {},
   "source": [
    "# Results\n",
    "We obtain pretty similar results, very slightly better. Let's try more convolutional and pooling and less fully connected."
   ]
  },
  {
   "cell_type": "markdown",
   "id": "a60314d9",
   "metadata": {},
   "source": [
    "# Second convolutional network\n",
    "More convolutional layers\n",
    "More dense layers\n",
    "Dropout in the dense layers"
   ]
  },
  {
   "cell_type": "code",
   "execution_count": 18,
   "id": "a398199a",
   "metadata": {},
   "outputs": [],
   "source": [
    "conv1_size = 32\n",
    "conv2_size = 48\n",
    "fc1_size = 48\n",
    "dropout_rate1 = 0.2\n",
    "fc2_size = 24\n",
    "dropout_rate2 = 0.3"
   ]
  },
  {
   "cell_type": "code",
   "execution_count": 20,
   "id": "52e1f0d5",
   "metadata": {},
   "outputs": [
    {
     "name": "stdout",
     "output_type": "stream",
     "text": [
      "Model: \"sequential_2\"\n",
      "_________________________________________________________________\n",
      "Layer (type)                 Output Shape              Param #   \n",
      "=================================================================\n",
      "embedding_2 (Embedding)      (None, 50, 32)            32000     \n",
      "_________________________________________________________________\n",
      "conv1d_1 (Conv1D)            (None, 48, 32)            3104      \n",
      "_________________________________________________________________\n",
      "max_pooling1d_1 (MaxPooling1 (None, 24, 32)            0         \n",
      "_________________________________________________________________\n",
      "conv1d_2 (Conv1D)            (None, 22, 48)            4656      \n",
      "_________________________________________________________________\n",
      "max_pooling1d_2 (MaxPooling1 (None, 11, 48)            0         \n",
      "_________________________________________________________________\n",
      "flatten_2 (Flatten)          (None, 528)               0         \n",
      "_________________________________________________________________\n",
      "dropout (Dropout)            (None, 528)               0         \n",
      "_________________________________________________________________\n",
      "dense_4 (Dense)              (None, 48)                25392     \n",
      "_________________________________________________________________\n",
      "dropout_1 (Dropout)          (None, 48)                0         \n",
      "_________________________________________________________________\n",
      "dense_5 (Dense)              (None, 24)                1176      \n",
      "_________________________________________________________________\n",
      "dense_6 (Dense)              (None, 1)                 25        \n",
      "=================================================================\n",
      "Total params: 66,353\n",
      "Trainable params: 66,353\n",
      "Non-trainable params: 0\n",
      "_________________________________________________________________\n"
     ]
    }
   ],
   "source": [
    "CNN2 = Sequential()\n",
    "CNN2.add(Embedding(vocab_size, embedding_dim, input_length=max_len))\n",
    "CNN2.add(Conv1D(conv1_size, 3, activation='relu'))\n",
    "CNN2.add(MaxPooling1D(pool_size=2))\n",
    "CNN2.add(Conv1D(conv2_size, 3, activation='relu'))\n",
    "CNN2.add(MaxPooling1D(pool_size=2))\n",
    "CNN2.add(Flatten())\n",
    "CNN2.add(Dropout(dropout_rate1))\n",
    "CNN2.add(Dense(fc1_size, activation='relu'))\n",
    "CNN2.add(Dropout(dropout_rate2))\n",
    "CNN2.add(Dense(fc2_size, activation='relu'))\n",
    "CNN2.add(Dense(1, activation='sigmoid'))\n",
    "CNN2.compile(optimizer='adam', loss='binary_crossentropy', metrics=['accuracy', precision_m, recall_m, f1_m])\n",
    "CNN2.summary()"
   ]
  },
  {
   "cell_type": "code",
   "execution_count": 21,
   "id": "6b1a5856",
   "metadata": {},
   "outputs": [
    {
     "name": "stdout",
     "output_type": "stream",
     "text": [
      "Epoch 1/15\n",
      "289/289 [==============================] - 2s 5ms/step - loss: 0.2138 - accuracy: 0.9163 - precision_m: 0.9266 - recall_m: 0.8897 - f1_m: 0.8980 - val_loss: 0.0491 - val_accuracy: 0.9855 - val_precision_m: 0.9951 - val_recall_m: 0.9768 - val_f1_m: 0.9850\n",
      "Epoch 2/15\n",
      "289/289 [==============================] - 1s 4ms/step - loss: 0.0497 - accuracy: 0.9855 - precision_m: 0.9887 - recall_m: 0.9823 - f1_m: 0.9847 - val_loss: 0.0294 - val_accuracy: 0.9903 - val_precision_m: 0.9950 - val_recall_m: 0.9855 - val_f1_m: 0.9898\n",
      "Epoch 3/15\n",
      "289/289 [==============================] - 1s 4ms/step - loss: 0.0291 - accuracy: 0.9939 - precision_m: 0.9970 - recall_m: 0.9916 - f1_m: 0.9940 - val_loss: 0.0395 - val_accuracy: 0.9875 - val_precision_m: 0.9804 - val_recall_m: 0.9961 - val_f1_m: 0.9875\n",
      "Epoch 4/15\n",
      "289/289 [==============================] - 1s 4ms/step - loss: 0.0200 - accuracy: 0.9941 - precision_m: 0.9955 - recall_m: 0.9926 - f1_m: 0.9938 - val_loss: 0.0403 - val_accuracy: 0.9882 - val_precision_m: 0.9937 - val_recall_m: 0.9828 - val_f1_m: 0.9874\n",
      "Epoch 5/15\n",
      "289/289 [==============================] - 1s 4ms/step - loss: 0.0090 - accuracy: 0.9979 - precision_m: 0.9982 - recall_m: 0.9975 - f1_m: 0.9977 - val_loss: 0.0453 - val_accuracy: 0.9882 - val_precision_m: 0.9845 - val_recall_m: 0.9929 - val_f1_m: 0.9880\n",
      "Epoch 6/15\n",
      "289/289 [==============================] - 1s 4ms/step - loss: 0.0105 - accuracy: 0.9962 - precision_m: 0.9973 - recall_m: 0.9949 - f1_m: 0.9958 - val_loss: 0.0509 - val_accuracy: 0.9889 - val_precision_m: 0.9833 - val_recall_m: 0.9961 - val_f1_m: 0.9889\n",
      "Epoch 7/15\n",
      "289/289 [==============================] - 1s 4ms/step - loss: 0.0100 - accuracy: 0.9964 - precision_m: 0.9966 - recall_m: 0.9964 - f1_m: 0.9962 - val_loss: 0.0774 - val_accuracy: 0.9779 - val_precision_m: 0.9596 - val_recall_m: 0.9948 - val_f1_m: 0.9753\n",
      "Epoch 8/15\n",
      "289/289 [==============================] - 1s 4ms/step - loss: 0.0052 - accuracy: 0.9984 - precision_m: 0.9983 - recall_m: 0.9984 - f1_m: 0.9983 - val_loss: 0.0555 - val_accuracy: 0.9896 - val_precision_m: 0.9819 - val_recall_m: 0.9961 - val_f1_m: 0.9879\n",
      "Epoch 9/15\n",
      "289/289 [==============================] - 1s 4ms/step - loss: 0.0011 - accuracy: 0.9998 - precision_m: 1.0000 - recall_m: 0.9997 - f1_m: 0.9998 - val_loss: 0.0622 - val_accuracy: 0.9910 - val_precision_m: 0.9888 - val_recall_m: 0.9948 - val_f1_m: 0.9911\n",
      "Epoch 10/15\n",
      "289/289 [==============================] - 1s 4ms/step - loss: 0.0014 - accuracy: 0.9998 - precision_m: 1.0000 - recall_m: 0.9996 - f1_m: 0.9998 - val_loss: 0.0632 - val_accuracy: 0.9917 - val_precision_m: 0.9888 - val_recall_m: 0.9961 - val_f1_m: 0.9918\n",
      "Epoch 11/15\n",
      "289/289 [==============================] - 1s 4ms/step - loss: 0.0065 - accuracy: 0.9983 - precision_m: 0.9988 - recall_m: 0.9978 - f1_m: 0.9982 - val_loss: 0.0766 - val_accuracy: 0.9848 - val_precision_m: 0.9762 - val_recall_m: 0.9961 - val_f1_m: 0.9853\n",
      "Epoch 12/15\n",
      "289/289 [==============================] - 1s 4ms/step - loss: 0.0074 - accuracy: 0.9983 - precision_m: 0.9984 - recall_m: 0.9980 - f1_m: 0.9981 - val_loss: 0.0473 - val_accuracy: 0.9889 - val_precision_m: 0.9820 - val_recall_m: 0.9942 - val_f1_m: 0.9870\n",
      "Epoch 13/15\n",
      "289/289 [==============================] - 1s 4ms/step - loss: 0.0029 - accuracy: 0.9991 - precision_m: 0.9989 - recall_m: 0.9994 - f1_m: 0.9991 - val_loss: 0.0432 - val_accuracy: 0.9910 - val_precision_m: 0.9898 - val_recall_m: 0.9930 - val_f1_m: 0.9909\n",
      "Epoch 14/15\n",
      "289/289 [==============================] - 1s 4ms/step - loss: 0.0048 - accuracy: 0.9986 - precision_m: 0.9988 - recall_m: 0.9986 - f1_m: 0.9986 - val_loss: 0.0921 - val_accuracy: 0.9848 - val_precision_m: 0.9705 - val_recall_m: 0.9975 - val_f1_m: 0.9826\n",
      "Epoch 15/15\n",
      "289/289 [==============================] - 1s 4ms/step - loss: 0.0030 - accuracy: 0.9995 - precision_m: 0.9996 - recall_m: 0.9990 - f1_m: 0.9992 - val_loss: 0.0604 - val_accuracy: 0.9889 - val_precision_m: 0.9899 - val_recall_m: 0.9874 - val_f1_m: 0.9878\n"
     ]
    }
   ],
   "source": [
    "histCNN2 = CNN2.fit(training_padded, train_labels, validation_split=0.2, epochs=15, batch_size=batch_size)"
   ]
  },
  {
   "cell_type": "code",
   "execution_count": 22,
   "id": "542876b8",
   "metadata": {},
   "outputs": [
    {
     "name": "stdout",
     "output_type": "stream",
     "text": [
      "0.992409884929657 0.9905334711074829 0.9912416934967041\n"
     ]
    }
   ],
   "source": [
    "loss, accuracy, f1_score, precision, recall = CNN2.evaluate(testing_padded, test_labels, verbose=0)\n",
    "print(f1_score, precision, recall)"
   ]
  },
  {
   "cell_type": "markdown",
   "id": "7ff20e50",
   "metadata": {},
   "source": [
    "# Results of 2nd CNN\n",
    "Slightly worse results."
   ]
  },
  {
   "cell_type": "markdown",
   "id": "de9e4cc3",
   "metadata": {},
   "source": [
    "# Potential improvements for all models\n",
    "Have a fixed architecture but tune the learning rate and number of epochs (or even more hyperparameters like kernel sizes ...)\n",
    "For the second CNN, tune dropout rates as well.\n",
    "\n",
    "We are not going to do these improvements, because our model already performs very well, and we would like to understand what's going on \"under the hood\"."
   ]
  },
  {
   "cell_type": "markdown",
   "id": "b662d70e",
   "metadata": {},
   "source": [
    "# Visualizing the word embedders\n",
    "The most straightforward methods would be dimensional reduction methods, that project our 32-dimensional word embedding space into a 2-dimensional space we can visualize.\n",
    "The 2 techniques we'll try are\n",
    "- PCA : Principal component analysis\n",
    "- tSNE"
   ]
  },
  {
   "cell_type": "code",
   "execution_count": 65,
   "id": "65ff9790",
   "metadata": {},
   "outputs": [],
   "source": [
    "from sklearn.manifold import TSNE"
   ]
  },
  {
   "cell_type": "code",
   "execution_count": 66,
   "id": "25f412d9",
   "metadata": {},
   "outputs": [],
   "source": [
    "embed_layer = CNN2.get_layer(\"embedding_2\")\n",
    "embedding = embed_layer.get_weights()\n",
    "embedding = embedding[0] #Otherwise we have a list that contains an array"
   ]
  },
  {
   "cell_type": "code",
   "execution_count": 67,
   "id": "72584a33",
   "metadata": {},
   "outputs": [],
   "source": [
    "embeddingTSNE5 = TSNE(n_components=2, learning_rate='auto',\n",
    "                     perplexity=5.0, init='random').fit_transform(embedding)\n",
    "embeddingTSNE30 = TSNE(n_components=2, learning_rate='auto',\n",
    "                     perplexity=30.0, init='random').fit_transform(embedding)"
   ]
  },
  {
   "cell_type": "code",
   "execution_count": null,
   "id": "fb4f4fac",
   "metadata": {},
   "outputs": [],
   "source": [
    "fix, ax = plt.subplots()\n",
    "ax.scatter(embeddingTSNE5[:,0], embeddingTSNE5[:,1])\n",
    "\n",
    "for key, i in word_index.items():\n",
    "    if i <= 75:\n",
    "        ax.annotate(key, (embeddingTSNE5[i-1,0], embeddingTSNE5[i-1,1]))\n",
    "#Interessant de voir qu'il n'y a pas vraiment de structure géométrique qui resort\n",
    "#PAR CONTRE : peut être que des mots proches correspondent à des mots liés à la classification"
   ]
  },
  {
   "cell_type": "code",
   "execution_count": null,
   "id": "dab36ec7",
   "metadata": {},
   "outputs": [],
   "source": [
    "plt.scatter(embeddingTSNE30[:,0], embeddingTSNE30[:,1]) #Vraiment pas de structure ici"
   ]
  },
  {
   "cell_type": "markdown",
   "id": "7b5d95c1",
   "metadata": {},
   "source": [
    "## Add colors for each word\n",
    "My simplest idea so far : For each sentence, add to each word present in the sentence the prediction confidence of our model on the sentence. Then do an average to rescale at [0,1]. This gives an idea of the \"expected confidence\" when the word is present in the sentence.\n",
    "Close to 0 : means we predict ham confidently. Close to 1 : Predict spam confidently."
   ]
  },
  {
   "cell_type": "code",
   "execution_count": 53,
   "id": "bbc962a5",
   "metadata": {},
   "outputs": [],
   "source": [
    "#vocab_size = 1000\n",
    "word_confidence = np.zeros((vocab_size, 2))\n",
    "\n",
    "confidence_train = CNN2.predict(training_padded, batch_size=32) #Much much faster than observation by observatio\n",
    "L = training_padded.shape[0]\n",
    "for i in range(L):\n",
    "    for token in training_padded[i]:\n",
    "        if token != 0: #0 is the filler token\n",
    "            word_confidence[token-1, 0] += confidence_train[i]\n",
    "            word_confidence[token-1, 1] += 1\n",
    "            \n",
    "confidence_test = CNN2.predict(testing_padded, batch_size=32)\n",
    "L = testing_padded.shape[0]\n",
    "for i in range(L):\n",
    "    for token in testing_padded[i]:\n",
    "        if token != 0:\n",
    "            word_confidence[token-1, 0] += confidence_test[i]\n",
    "            word_confidence[token-1, 1] += 1"
   ]
  },
  {
   "cell_type": "code",
   "execution_count": 64,
   "id": "569a15a0",
   "metadata": {},
   "outputs": [
    {
     "name": "stdout",
     "output_type": "stream",
     "text": [
      "(1000,)\n"
     ]
    }
   ],
   "source": [
    "word_color = np.zeros(vocab_size)\n",
    "for i in range(vocab_size):\n",
    "    if word_confidence[i, 1] == 0.0:\n",
    "        word_color[i] = 0.5 #Neutral for confidence\n",
    "    else:\n",
    "        word_color[i] = word_confidence[i,0] / word_confidence[i,1]\n",
    "print(word_color.shape)"
   ]
  },
  {
   "cell_type": "code",
   "execution_count": 72,
   "id": "0136c60f",
   "metadata": {},
   "outputs": [
    {
     "data": {
      "image/png": "[encoded data removed]",
      "text/plain": [
       "<Figure size 432x288 with 1 Axes>"
      ]
     },
     "metadata": {
      "needs_background": "light"
     },
     "output_type": "display_data"
    }
   ],
   "source": [
    "plt.scatter(embeddingTSNE5[:,0], embeddingTSNE5[:,1], c=word_color, cmap='coolwarm')\n",
    "#coolwarm colormap : red = 1 (spam), blue = 0 (ham)\n",
    "plt.show()"
   ]
  },
  {
   "cell_type": "code",
   "execution_count": 73,
   "id": "f2563282",
   "metadata": {},
   "outputs": [
    {
     "data": {
      "image/png": "[encoded data removed]",
      "text/plain": [
       "<Figure size 432x288 with 1 Axes>"
      ]
     },
     "metadata": {
      "needs_background": "light"
     },
     "output_type": "display_data"
    }
   ],
   "source": [
    "plt.scatter(embeddingTSNE30[:,0], embeddingTSNE30[:,1], c=word_color, cmap='coolwarm')\n",
    "plt.show()"
   ]
  },
  {
   "cell_type": "markdown",
   "id": "31df4aff",
   "metadata": {},
   "source": [
    "# Observations about tSNE plots and color\n",
    "There are no patterns we can observe.\n",
    "It's worth noting that the way we assign color to each word might be flawed.\n",
    "\n",
    "Maybe just try looking at top words in terms of word_color and see if those match the word clouds from original data ?"
   ]
  },
  {
   "cell_type": "code",
   "execution_count": 104,
   "id": "b9eea762",
   "metadata": {},
   "outputs": [
    {
     "data": {
      "text/plain": [
       "0.5758709383051818"
      ]
     },
     "execution_count": 104,
     "metadata": {},
     "output_type": "execute_result"
    }
   ],
   "source": [
    "word_color[0] #First word is <OOV> = out of vocabulary token\n",
    "                #As expected, fairly neutral"
   ]
  },
  {
   "cell_type": "code",
   "execution_count": 97,
   "id": "cc2ae673",
   "metadata": {},
   "outputs": [
    {
     "data": {
      "text/plain": [
       "['prize',\n",
       " 'claim',\n",
       " '150p',\n",
       " 'won',\n",
       " '000',\n",
       " 'guaranteed',\n",
       " 'tone',\n",
       " '£1',\n",
       " 'ringtone',\n",
       " 'valid',\n",
       " 'weekly',\n",
       " '150',\n",
       " 'cs',\n",
       " '150ppm',\n",
       " 'http',\n",
       " '500',\n",
       " '10p',\n",
       " '8007',\n",
       " 'tones',\n",
       " 'national',\n",
       " 'mob',\n",
       " '750',\n",
       " 'awarded',\n",
       " 'sae',\n",
       " 'collection',\n",
       " 'bonus',\n",
       " 'unsubscribe',\n",
       " 'poly',\n",
       " '£1000',\n",
       " 'entry',\n",
       " 'dating',\n",
       " '08000930705',\n",
       " '800',\n",
       " 'ltd',\n",
       " '£500',\n",
       " '2003',\n",
       " 'freemsg',\n",
       " '86688',\n",
       " 'expires',\n",
       " 'reward',\n",
       " 'camcorder',\n",
       " 'mobileupd8',\n",
       " '£2',\n",
       " 'winner',\n",
       " '£2000',\n",
       " '08000839402',\n",
       " 'ac',\n",
       " 'ppm',\n",
       " 'quiz',\n",
       " 'operator',\n",
       " 'suite342',\n",
       " '2lands',\n",
       " 'rental',\n",
       " 'charged',\n",
       " 'standard',\n",
       " '03',\n",
       " 'ipod',\n",
       " 'wap',\n",
       " 'unredeemed',\n",
       " '1000',\n",
       " '04',\n",
       " 'txts',\n",
       " 'dogging',\n",
       " '2004',\n",
       " 'vouchers',\n",
       " 'savamob',\n",
       " '00',\n",
       " '87066',\n",
       " 'charity',\n",
       " '£3',\n",
       " 'eg',\n",
       " \"c's\",\n",
       " \"uk's\",\n",
       " 'specially',\n",
       " 'call2optout',\n",
       " 'awaits',\n",
       " '08712460324',\n",
       " 'w1j6hl',\n",
       " '250',\n",
       " 'pobox',\n",
       " '87077',\n",
       " \"week's\",\n",
       " '3030',\n",
       " 'upgrade',\n",
       " 'bluetooth',\n",
       " 'maximize',\n",
       " 'ldew',\n",
       " 'logo',\n",
       " '08718720201',\n",
       " 'hg',\n",
       " 'credits',\n",
       " 'custcare',\n",
       " '50p',\n",
       " 'getzed',\n",
       " '£10',\n",
       " '24',\n",
       " 'biz',\n",
       " 'horny',\n",
       " 'admirer',\n",
       " '£350',\n",
       " 'ntt',\n",
       " '2optout',\n",
       " 'tenerife',\n",
       " '62468',\n",
       " 'subscription',\n",
       " '£5000',\n",
       " '28',\n",
       " 'comuk',\n",
       " 'reveal',\n",
       " '08712300220',\n",
       " 'opt',\n",
       " 'ldn',\n",
       " '25p',\n",
       " 'bid',\n",
       " 'rates',\n",
       " 'polys',\n",
       " 'zed',\n",
       " 'ts',\n",
       " 'matches',\n",
       " '£200',\n",
       " 'cc',\n",
       " '02',\n",
       " 'age16',\n",
       " 'videophone',\n",
       " 'loyalty',\n",
       " 'holder',\n",
       " 'sp',\n",
       " '06',\n",
       " '1327',\n",
       " 'croydon',\n",
       " 'cr9',\n",
       " '5wb',\n",
       " \"t's\",\n",
       " 'o2',\n",
       " 'urawinner',\n",
       " '£5',\n",
       " 'redeem',\n",
       " 'themob',\n",
       " 'delivered',\n",
       " 'ec2a',\n",
       " 'pobox36504w45wq',\n",
       " '20p',\n",
       " '40gb',\n",
       " 'voda',\n",
       " 'sonyericsson',\n",
       " '300',\n",
       " '05',\n",
       " 'contacted',\n",
       " '5000',\n",
       " '434',\n",
       " '82277',\n",
       " 'gbp',\n",
       " 'partner',\n",
       " 'largest',\n",
       " 'ip4',\n",
       " 'flag',\n",
       " 'flights',\n",
       " 'redeemed',\n",
       " 'digital',\n",
       " 'mobiles',\n",
       " 'no1',\n",
       " '80488',\n",
       " '83355',\n",
       " 'txtauction',\n",
       " 'xchat',\n",
       " 'announcement',\n",
       " '87239',\n",
       " 'paris',\n",
       " 'revealed',\n",
       " '£900',\n",
       " 'invites',\n",
       " '85',\n",
       " 'textpod',\n",
       " '08707509020',\n",
       " 'pence',\n",
       " '3510i',\n",
       " '350',\n",
       " 'awaiting',\n",
       " 'singles',\n",
       " '86021',\n",
       " '83600',\n",
       " 'vip',\n",
       " 'polyphonic',\n",
       " 'arcade',\n",
       " '36504',\n",
       " '10am',\n",
       " 'moby',\n",
       " '85023',\n",
       " 'tncs',\n",
       " \"weekend's\",\n",
       " '5we',\n",
       " 'selection',\n",
       " 'representative',\n",
       " '12hrs',\n",
       " 'vodafone',\n",
       " 'december',\n",
       " 'rcvd',\n",
       " 'inc',\n",
       " 'raffle',\n",
       " 'mtmsgrcvd18',\n",
       " 'bx420',\n",
       " 'porn',\n",
       " 'fantasies',\n",
       " 'costa',\n",
       " 'sol',\n",
       " '08001950382',\n",
       " 'fantasy',\n",
       " 'cw25wx',\n",
       " 'harry',\n",
       " '1x150p',\n",
       " 'msgrcvdhg',\n",
       " '400',\n",
       " 'ibiza',\n",
       " '88039',\n",
       " '£400',\n",
       " 'w1',\n",
       " '08712405020',\n",
       " 'pobox84',\n",
       " '£150',\n",
       " 'ntwk',\n",
       " 'sk38xh',\n",
       " '60p',\n",
       " 'w45wq',\n",
       " 'records',\n",
       " '82242',\n",
       " '87131',\n",
       " 'unsub',\n",
       " 'complimentary',\n",
       " 'std',\n",
       " 'spook',\n",
       " 'skilgme',\n",
       " 'star']"
      ]
     },
     "execution_count": 97,
     "metadata": {},
     "output_type": "execute_result"
    }
   ],
   "source": [
    "[w for w,v in word_index.items() if v <= 1000 and word_color[v-1] >= 0.999] #Strongly associated with spam"
   ]
  },
  {
   "cell_type": "code",
   "execution_count": 99,
   "id": "387e428c",
   "metadata": {},
   "outputs": [
    {
     "data": {
      "text/plain": [
       "['in',\n",
       " 'are',\n",
       " 'at',\n",
       " 'be',\n",
       " 'no',\n",
       " 'we',\n",
       " 'go',\n",
       " 'back',\n",
       " 'today',\n",
       " 'they',\n",
       " 'why',\n",
       " 'us',\n",
       " 'sent',\n",
       " 'even',\n",
       " 'year',\n",
       " 'because',\n",
       " 'may',\n",
       " 'ready',\n",
       " 'people',\n",
       " 'luv',\n",
       " 'baby',\n",
       " 'another',\n",
       " 'girl',\n",
       " 'stay',\n",
       " 'yesterday',\n",
       " 'bored',\n",
       " \"we'll\",\n",
       " 'true',\n",
       " 'address',\n",
       " 'comes',\n",
       " 'sounds',\n",
       " 'pub',\n",
       " 'part',\n",
       " 'email',\n",
       " 'missed',\n",
       " 'forget',\n",
       " 'lots',\n",
       " 'w',\n",
       " 'o',\n",
       " 'sell',\n",
       " 'through',\n",
       " 'wow',\n",
       " 'hungry',\n",
       " 'ans']"
      ]
     },
     "execution_count": 99,
     "metadata": {},
     "output_type": "execute_result"
    }
   ],
   "source": [
    "[w for w,v in word_index.items() if v <= 1000 and 0.45 <= word_color[v-1] <= 0.55]"
   ]
  },
  {
   "cell_type": "markdown",
   "id": "1896abf0",
   "metadata": {},
   "source": [
    "Maybe look at distribution of samples of \"very clearly spam\" inside the activation layers of our model ?"
   ]
  },
  {
   "cell_type": "markdown",
   "id": "6470013d",
   "metadata": {},
   "source": [
    "# Building maximum response samples\n",
    "My ideas so far :\n",
    "1. The function to optimize goes from the EMBEDDING SPACE to the class output neuron (if we maximize this, then we maximize spam confidence prediction)\n",
    "2. Initialize a point with U[0,1] on R^(50*32)\n",
    "3. Use gradient ascent algorithm : x_t+1 = x_t + gamma Gradient(x_t)\n",
    "4. Once reach enough confidence, go from embedding space to words by finding the closest word in the embedding trained layer (in terms of distance in R^32) for each of the 50 tokens."
   ]
  },
  {
   "cell_type": "code",
   "execution_count": null,
   "id": "df8c9c96",
   "metadata": {},
   "outputs": [],
   "source": [
    "array_test = training_padded[None, :]\n",
    "print(array_test[:,0])"
   ]
  },
  {
   "cell_type": "code",
   "execution_count": null,
   "id": "47949e9c",
   "metadata": {},
   "outputs": [],
   "source": [
    "for i in range(50):\n",
    "    Xnew = array_test[:,i]\n",
    "    ynew = CNN2.predict_classes(Xnew)\n",
    "    yproba = CNN2.predict(Xnew)\n",
    "    print(\"Observation numéro {i} rend ({lab}, {proba})\".format(i=i, lab=ynew, proba=yproba))\n",
    "    #Very confident on everything"
   ]
  }
 ],
 "metadata": {
  "kernelspec": {
   "display_name": "Python 3 (ipykernel)",
   "language": "python",
   "name": "python3"
  },
  "language_info": {
   "codemirror_mode": {
    "name": "ipython",
    "version": 3
   },
   "file_extension": ".py",
   "mimetype": "text/x-python",
   "name": "python",
   "nbconvert_exporter": "python",
   "pygments_lexer": "ipython3",
   "version": "3.9.7"
  }
 },
 "nbformat": 4,
 "nbformat_minor": 5
}
