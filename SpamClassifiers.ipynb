{
 "cells": [
  {
   "cell_type": "markdown",
   "id": "445f6e12",
   "metadata": {},
   "source": [
    "# Building 3 neural networks to classify spam messages\n",
    "\n",
    "The goal is to build a classifier that can seperate spam messages (SMS) and ham messages, or non-spam.\n",
    "The dataset is given at https://archive.ics.uci.edu/ml/datasets/sms+spam+collection"
   ]
  },
  {
   "cell_type": "code",
   "execution_count": 1,
   "id": "016fc686",
   "metadata": {},
   "outputs": [],
   "source": [
    "import matplotlib.pyplot as plt\n",
    "import numpy as np\n",
    "import pandas as pd\n",
    "\n",
    "#Text processing\n",
    "import tensorflow as tf\n",
    "from tensorflow.keras.preprocessing.text import Tokenizer\n",
    "from tensorflow.keras.preprocessing.sequence import pad_sequences\n",
    "\n",
    "#Deep learning\n",
    "from sklearn.model_selection import train_test_split, GridSearchCV\n",
    "from sklearn.metrics import confusion_matrix\n",
    "from tensorflow.keras.models import Sequential\n",
    "from tensorflow.keras.layers import Dense, Flatten, Embedding, Dropout\n",
    "from tensorflow.keras.layers import Conv1D, MaxPooling1D #CNN specific\n",
    "\n",
    "from sklearn.manifold import TSNE # Visualizing word embedding\n",
    "\n",
    "from gensim.models import Word2Vec\n",
    "from gensim.models import KeyedVectors"
   ]
  },
  {
   "cell_type": "code",
   "execution_count": 2,
   "id": "01035b0f",
   "metadata": {},
   "outputs": [],
   "source": [
    "url = \"https://raw.githubusercontent.com/ThinhNguyendai/SMSSpamDetection/main/SMSSpamCollection\"\n",
    "messages = pd.read_csv(url, sep ='\\t', names=[\"label\", \"message\"])\n",
    "messages = messages.drop_duplicates()\n",
    "\n",
    "#Oversampled + Original copy of spam\n",
    "url2 = \"https://raw.githubusercontent.com/ThinhNguyendai/SMSSpamDetection/main/BacktranslatedSpam\"\n",
    "new_spam = pd.read_csv(url2, sep ='\\t', names=[\"message\"]) # No label like the usual file here\n",
    "spam_labels = [\"spam\" for i in range(len(new_spam))]\n",
    "new_spam.insert(0, \"label\", spam_labels, allow_duplicates=True)"
   ]
  },
  {
   "cell_type": "code",
   "execution_count": 3,
   "id": "f43f692d",
   "metadata": {},
   "outputs": [
    {
     "name": "stdout",
     "output_type": "stream",
     "text": [
      "4516 4571\n"
     ]
    }
   ],
   "source": [
    "ham_msg = messages[messages.label =='ham']\n",
    "print(len(ham_msg), len(new_spam))"
   ]
  },
  {
   "cell_type": "code",
   "execution_count": 4,
   "id": "bc28cc22",
   "metadata": {},
   "outputs": [
    {
     "data": {
      "text/html": [
       "<div>\n",
       "<style scoped>\n",
       "    .dataframe tbody tr th:only-of-type {\n",
       "        vertical-align: middle;\n",
       "    }\n",
       "\n",
       "    .dataframe tbody tr th {\n",
       "        vertical-align: top;\n",
       "    }\n",
       "\n",
       "    .dataframe thead th {\n",
       "        text-align: right;\n",
       "    }\n",
       "</style>\n",
       "<table border=\"1\" class=\"dataframe\">\n",
       "  <thead>\n",
       "    <tr style=\"text-align: right;\">\n",
       "      <th></th>\n",
       "      <th>label</th>\n",
       "      <th>message</th>\n",
       "    </tr>\n",
       "  </thead>\n",
       "  <tbody>\n",
       "    <tr>\n",
       "      <th>0</th>\n",
       "      <td>ham</td>\n",
       "      <td>Go until jurong point, crazy.. Available only ...</td>\n",
       "    </tr>\n",
       "    <tr>\n",
       "      <th>1</th>\n",
       "      <td>ham</td>\n",
       "      <td>Ok lar... Joking wif u oni...</td>\n",
       "    </tr>\n",
       "    <tr>\n",
       "      <th>2</th>\n",
       "      <td>ham</td>\n",
       "      <td>U dun say so early hor... U c already then say...</td>\n",
       "    </tr>\n",
       "    <tr>\n",
       "      <th>3</th>\n",
       "      <td>ham</td>\n",
       "      <td>Nah I don't think he goes to usf, he lives aro...</td>\n",
       "    </tr>\n",
       "    <tr>\n",
       "      <th>4</th>\n",
       "      <td>ham</td>\n",
       "      <td>Even my brother is not like to speak with me. ...</td>\n",
       "    </tr>\n",
       "    <tr>\n",
       "      <th>...</th>\n",
       "      <td>...</td>\n",
       "      <td>...</td>\n",
       "    </tr>\n",
       "    <tr>\n",
       "      <th>9027</th>\n",
       "      <td>spam</td>\n",
       "      <td>&lt;Redirected from 21870000&gt;Hello, this is your...</td>\n",
       "    </tr>\n",
       "    <tr>\n",
       "      <th>9028</th>\n",
       "      <td>spam</td>\n",
       "      <td>don't know you and you don't know me. Send CH...</td>\n",
       "    </tr>\n",
       "    <tr>\n",
       "      <th>9029</th>\n",
       "      <td>spam</td>\n",
       "      <td>You can stop more club tones by answering \"ST...</td>\n",
       "    </tr>\n",
       "    <tr>\n",
       "      <th>9030</th>\n",
       "      <td>spam</td>\n",
       "      <td>Latest news! Police station toilet stolen, po...</td>\n",
       "    </tr>\n",
       "    <tr>\n",
       "      <th>9031</th>\n",
       "      <td>spam</td>\n",
       "      <td>FreeMSG You have been awarded a FREE DIGITAL ...</td>\n",
       "    </tr>\n",
       "  </tbody>\n",
       "</table>\n",
       "<p>9032 rows × 2 columns</p>\n",
       "</div>"
      ],
      "text/plain": [
       "     label                                            message\n",
       "0      ham  Go until jurong point, crazy.. Available only ...\n",
       "1      ham                      Ok lar... Joking wif u oni...\n",
       "2      ham  U dun say so early hor... U c already then say...\n",
       "3      ham  Nah I don't think he goes to usf, he lives aro...\n",
       "4      ham  Even my brother is not like to speak with me. ...\n",
       "...    ...                                                ...\n",
       "9027  spam   <Redirected from 21870000>Hello, this is your...\n",
       "9028  spam   don't know you and you don't know me. Send CH...\n",
       "9029  spam   You can stop more club tones by answering \"ST...\n",
       "9030  spam   Latest news! Police station toilet stolen, po...\n",
       "9031  spam   FreeMSG You have been awarded a FREE DIGITAL ...\n",
       "\n",
       "[9032 rows x 2 columns]"
      ]
     },
     "execution_count": 4,
     "metadata": {},
     "output_type": "execute_result"
    }
   ],
   "source": [
    "new_spam_df = new_spam.sample(n = len(ham_msg), random_state = 754)\n",
    "msg_df = pd.concat([ham_msg, new_spam_df])\n",
    "msg_df.reset_index(drop=True)"
   ]
  },
  {
   "cell_type": "code",
   "execution_count": 5,
   "id": "b0d8f58e",
   "metadata": {},
   "outputs": [],
   "source": [
    "msg_labels = (msg_df['label'].map({'ham': 0, 'spam': 1})).values\n",
    "train_msg, test_msg, train_labels, test_labels = train_test_split(msg_df['message'],\n",
    "                                                                  msg_labels,\n",
    "                                                                  test_size=0.2,\n",
    "                                                                  random_state=705)"
   ]
  },
  {
   "cell_type": "code",
   "execution_count": 6,
   "id": "598c135f",
   "metadata": {},
   "outputs": [],
   "source": [
    "#Tokenizer : turn words into integers\n",
    "oov_tok = \"<OOV>\" # What to replace words that are not in the vocabulary with\n",
    "vocab_size = 1000 # Maximum number of uniques words for tokenizer\n",
    "\n",
    "tokenizer = Tokenizer(num_words = vocab_size,\n",
    "                      char_level=False, # Work words by word\n",
    "                      oov_token = oov_tok)\n",
    "tokenizer.fit_on_texts(train_msg)"
   ]
  },
  {
   "cell_type": "markdown",
   "id": "a5b73b72",
   "metadata": {},
   "source": [
    "# Discussion of hyper parameters of tokenizer\n",
    "vocab_size equal to 500 means we drop 30% of the words in total (counting duplicates)\n",
    "\n",
    "vocab_size equal to 1000 means we drop 20% of the words in total\n",
    "\n",
    "\n",
    "When it comes to length of sentences, with a max_len of 50 we get more than 99.2% of the sentences, which makes it sufficiently long."
   ]
  },
  {
   "cell_type": "code",
   "execution_count": 7,
   "id": "15f98181",
   "metadata": {},
   "outputs": [
    {
     "data": {
      "text/plain": [
       "8863"
      ]
     },
     "execution_count": 7,
     "metadata": {},
     "output_type": "execute_result"
    }
   ],
   "source": [
    "word_index = tokenizer.word_index\n",
    "len(word_index)"
   ]
  },
  {
   "cell_type": "code",
   "execution_count": 8,
   "id": "9aeac48c",
   "metadata": {},
   "outputs": [],
   "source": [
    "# Sequencing and padding on training and testing \n",
    "max_len = 50 # Max number of tokens, used with truncating and padding\n",
    "trunc_type = \"post\" # Truncates sequences of tokens that are longer than max_len, post=right side\n",
    "padding_type = \"post\" # Pads AFTER (with post) if sequence is shorter than max_len\n",
    "\n",
    "training_sequences = tokenizer.texts_to_sequences(train_msg)\n",
    "training_padded = pad_sequences (training_sequences, maxlen = max_len,\n",
    "                                 padding = padding_type, truncating = trunc_type)\n",
    "\n",
    "testing_sequences = tokenizer.texts_to_sequences(test_msg)\n",
    "testing_padded = pad_sequences(testing_sequences, maxlen = max_len,\n",
    "                               padding = padding_type, truncating = trunc_type)"
   ]
  },
  {
   "cell_type": "code",
   "execution_count": 9,
   "id": "140e9ad0",
   "metadata": {},
   "outputs": [
    {
     "name": "stdout",
     "output_type": "stream",
     "text": [
      "999\n",
      "999\n"
     ]
    }
   ],
   "source": [
    "print(np.max(training_padded)) #We have 1000 words, INCLUDING the token 0 for padding and <OOV> for out of vocabulary\n",
    "print(np.max(testing_padded))"
   ]
  },
  {
   "cell_type": "code",
   "execution_count": 10,
   "id": "8eb14bd6",
   "metadata": {},
   "outputs": [
    {
     "name": "stdout",
     "output_type": "stream",
     "text": [
      "Shape of training array:  (7225, 50)\n",
      "Shape of testing array:  (1807, 50)\n",
      "<class 'numpy.ndarray'>\n",
      "<class 'numpy.ndarray'>\n"
     ]
    }
   ],
   "source": [
    "print('Shape of training array: ', training_padded.shape)\n",
    "print('Shape of testing array: ', testing_padded.shape)\n",
    "print(type(training_padded))\n",
    "print(type(train_labels))"
   ]
  },
  {
   "cell_type": "code",
   "execution_count": 11,
   "id": "80ef4e14",
   "metadata": {},
   "outputs": [],
   "source": [
    "#F1 score is not defined in Keras\n",
    "#From https://datascience.stackexchange.com/questions/45165/how-to-get-accuracy-f1-precision-and-recall-for-a-keras-model\n",
    "from tensorflow.keras import backend as K\n",
    "def recall_m(y_true, y_pred):\n",
    "    true_positives = K.sum(K.round(K.clip(y_true * y_pred, 0, 1)))\n",
    "    possible_positives = K.sum(K.round(K.clip(y_true, 0, 1)))\n",
    "    recall = true_positives / (possible_positives + K.epsilon())\n",
    "    return recall\n",
    "\n",
    "def precision_m(y_true, y_pred):\n",
    "    true_positives = K.sum(K.round(K.clip(y_true * y_pred, 0, 1)))\n",
    "    predicted_positives = K.sum(K.round(K.clip(y_pred, 0, 1)))\n",
    "    precision = true_positives / (predicted_positives + K.epsilon())\n",
    "    return precision\n",
    "\n",
    "def f1_m(y_true, y_pred):\n",
    "    precision = precision_m(y_true, y_pred)\n",
    "    recall = recall_m(y_true, y_pred)\n",
    "    return 2*((precision*recall)/(precision+recall+K.epsilon()))"
   ]
  },
  {
   "cell_type": "markdown",
   "id": "27e3f7df",
   "metadata": {},
   "source": [
    "### Keras functions to define neural network\n",
    "Embedding layer takes as input a vector of length *input_length* of **integers**, where the integers are between 0 and *vocab_size-1* (both bounds included). The output is a matrix of dimensions *input_length* * *output_dim*. In other words, each input neuron is projected into a space of dimension *output_dim*.\n",
    "\n",
    "The flatten layer flattens the 2D output into a 1D array\n",
    "\n",
    "Dense layer is another name for the regular fully connected layer."
   ]
  },
  {
   "cell_type": "code",
   "execution_count": 21,
   "id": "eaf1cb00",
   "metadata": {},
   "outputs": [
    {
     "name": "stdout",
     "output_type": "stream",
     "text": [
      "Model: \"sequential_3\"\n",
      "_________________________________________________________________\n",
      "Layer (type)                 Output Shape              Param #   \n",
      "=================================================================\n",
      "embedding_3 (Embedding)      (None, 50, 32)            32000     \n",
      "_________________________________________________________________\n",
      "flatten_2 (Flatten)          (None, 1600)              0         \n",
      "_________________________________________________________________\n",
      "dense_4 (Dense)              (None, 128)               204928    \n",
      "_________________________________________________________________\n",
      "dense_5 (Dense)              (None, 1)                 129       \n",
      "=================================================================\n",
      "Total params: 237,057\n",
      "Trainable params: 237,057\n",
      "Non-trainable params: 0\n",
      "_________________________________________________________________\n"
     ]
    }
   ],
   "source": [
    "#vocab_size = 1000\n",
    "#max_len = 50\n",
    "embedding_dim = 32\n",
    "fc_size = 128\n",
    "batch_size = 20\n",
    "num_epochs = 5\n",
    "\n",
    "model = Sequential()\n",
    "model.add(Embedding(vocab_size, embedding_dim, input_length = max_len))\n",
    "model.add(Flatten())\n",
    "model.add(Dense(fc_size, activation='relu'))\n",
    "model.add(Dense(1, activation='sigmoid'))\n",
    "model.compile(optimizer='adam', loss='binary_crossentropy', metrics=['accuracy', precision_m, recall_m, f1_m])\n",
    "model.summary()"
   ]
  },
  {
   "cell_type": "code",
   "execution_count": 22,
   "id": "35e33c48",
   "metadata": {},
   "outputs": [
    {
     "name": "stdout",
     "output_type": "stream",
     "text": [
      "Epoch 1/5\n",
      "362/362 [==============================] - 2s 4ms/step - loss: 0.1544 - accuracy: 0.9390 - precision_m: 0.9448 - recall_m: 0.9251 - f1_m: 0.9284 - val_loss: 0.0454 - val_accuracy: 0.9845 - val_precision_m: 0.9936 - val_recall_m: 0.9779 - val_f1_m: 0.9848\n",
      "Epoch 2/5\n",
      "362/362 [==============================] - 1s 3ms/step - loss: 0.0239 - accuracy: 0.9940 - precision_m: 0.9958 - recall_m: 0.9919 - f1_m: 0.9934 - val_loss: 0.0268 - val_accuracy: 0.9900 - val_precision_m: 0.9898 - val_recall_m: 0.9903 - val_f1_m: 0.9896\n",
      "Epoch 3/5\n",
      "362/362 [==============================] - 1s 3ms/step - loss: 0.0063 - accuracy: 0.9990 - precision_m: 0.9998 - recall_m: 0.9980 - f1_m: 0.9989 - val_loss: 0.0230 - val_accuracy: 0.9923 - val_precision_m: 0.9956 - val_recall_m: 0.9895 - val_f1_m: 0.9922\n",
      "Epoch 4/5\n",
      "362/362 [==============================] - 1s 3ms/step - loss: 0.0030 - accuracy: 0.9996 - precision_m: 1.0000 - recall_m: 0.9993 - f1_m: 0.9996 - val_loss: 0.0258 - val_accuracy: 0.9923 - val_precision_m: 0.9948 - val_recall_m: 0.9903 - val_f1_m: 0.9921\n",
      "Epoch 5/5\n",
      "362/362 [==============================] - 1s 3ms/step - loss: 0.0021 - accuracy: 0.9997 - precision_m: 0.9998 - recall_m: 0.9998 - f1_m: 0.9998 - val_loss: 0.0277 - val_accuracy: 0.9917 - val_precision_m: 0.9958 - val_recall_m: 0.9882 - val_f1_m: 0.9915\n"
     ]
    }
   ],
   "source": [
    "hist = model.fit(training_padded, train_labels,\n",
    "                    validation_data=(testing_padded, test_labels),\n",
    "                    epochs=num_epochs, batch_size=batch_size)"
   ]
  },
  {
   "cell_type": "code",
   "execution_count": 23,
   "id": "674e50c0",
   "metadata": {},
   "outputs": [
    {
     "name": "stdout",
     "output_type": "stream",
     "text": [
      "0.9916989207267761 0.9954739212989807 0.9883537888526917 0.9916729927062988\n"
     ]
    }
   ],
   "source": [
    "loss, accuracy, precision, recall, f1_score = model.evaluate(testing_padded, test_labels, verbose=0)\n",
    "print(accuracy, precision, recall, f1_score)"
   ]
  },
  {
   "cell_type": "markdown",
   "id": "f2a8ffac",
   "metadata": {},
   "source": [
    "# Convolutional neural network"
   ]
  },
  {
   "cell_type": "code",
   "execution_count": 24,
   "id": "1419920b",
   "metadata": {},
   "outputs": [],
   "source": [
    "#vocab_size = 1000\n",
    "#max_len = 50\n",
    "#embedding_dim = 32\n",
    "#batch_size = 20\n",
    "#num_epochs = 5\n",
    "\n",
    "    # CNN Architecture\n",
    "conv1_kernel = 3\n",
    "conv1_channel = 48 # Number of channels of output after 1st convolutional layer\n",
    "maxPool1_size = 2\n",
    "#fc_size = 128"
   ]
  },
  {
   "cell_type": "code",
   "execution_count": 25,
   "id": "462d5315",
   "metadata": {},
   "outputs": [
    {
     "name": "stdout",
     "output_type": "stream",
     "text": [
      "Model: \"sequential_4\"\n",
      "_________________________________________________________________\n",
      "Layer (type)                 Output Shape              Param #   \n",
      "=================================================================\n",
      "embedding_4 (Embedding)      (None, 50, 32)            32000     \n",
      "_________________________________________________________________\n",
      "conv1d_1 (Conv1D)            (None, 48, 48)            4656      \n",
      "_________________________________________________________________\n",
      "max_pooling1d_1 (MaxPooling1 (None, 24, 48)            0         \n",
      "_________________________________________________________________\n",
      "flatten_3 (Flatten)          (None, 1152)              0         \n",
      "_________________________________________________________________\n",
      "dense_6 (Dense)              (None, 128)               147584    \n",
      "_________________________________________________________________\n",
      "dense_7 (Dense)              (None, 1)                 129       \n",
      "=================================================================\n",
      "Total params: 184,369\n",
      "Trainable params: 184,369\n",
      "Non-trainable params: 0\n",
      "_________________________________________________________________\n"
     ]
    }
   ],
   "source": [
    "CNN = Sequential()\n",
    "CNN.add(Embedding(vocab_size, embedding_dim, input_length=max_len))\n",
    "# No flatten because Conv1D input is formatted this way\n",
    "CNN.add(Conv1D(conv1_channel, conv1_kernel, activation='relu'))\n",
    "CNN.add(MaxPooling1D(pool_size=maxPool1_size))\n",
    "CNN.add(Flatten())\n",
    "CNN.add(Dense(fc_size, activation='relu'))\n",
    "CNN.add(Dense(1, activation='sigmoid'))\n",
    "CNN.compile(optimizer='adam', loss='binary_crossentropy', metrics=['accuracy', precision_m, recall_m, f1_m])\n",
    "CNN.summary()"
   ]
  },
  {
   "cell_type": "code",
   "execution_count": 26,
   "id": "5bc31d19",
   "metadata": {},
   "outputs": [
    {
     "name": "stdout",
     "output_type": "stream",
     "text": [
      "Epoch 1/5\n",
      "362/362 [==============================] - 3s 4ms/step - loss: 0.1407 - accuracy: 0.9438 - precision_m: 0.9425 - recall_m: 0.9327 - f1_m: 0.9344 - val_loss: 0.0470 - val_accuracy: 0.9856 - val_precision_m: 0.9928 - val_recall_m: 0.9795 - val_f1_m: 0.9855\n",
      "Epoch 2/5\n",
      "362/362 [==============================] - 1s 4ms/step - loss: 0.0291 - accuracy: 0.9920 - precision_m: 0.9941 - recall_m: 0.9891 - f1_m: 0.9911 - val_loss: 0.0277 - val_accuracy: 0.9911 - val_precision_m: 0.9961 - val_recall_m: 0.9881 - val_f1_m: 0.9917\n",
      "Epoch 3/5\n",
      "362/362 [==============================] - 1s 4ms/step - loss: 0.0139 - accuracy: 0.9958 - precision_m: 0.9973 - recall_m: 0.9948 - f1_m: 0.9959 - val_loss: 0.0373 - val_accuracy: 0.9884 - val_precision_m: 0.9971 - val_recall_m: 0.9813 - val_f1_m: 0.9886\n",
      "Epoch 4/5\n",
      "362/362 [==============================] - 1s 3ms/step - loss: 0.0078 - accuracy: 0.9979 - precision_m: 0.9990 - recall_m: 0.9970 - f1_m: 0.9979 - val_loss: 0.0269 - val_accuracy: 0.9911 - val_precision_m: 0.9943 - val_recall_m: 0.9900 - val_f1_m: 0.9919\n",
      "Epoch 5/5\n",
      "362/362 [==============================] - 1s 3ms/step - loss: 0.0057 - accuracy: 0.9986 - precision_m: 0.9994 - recall_m: 0.9981 - f1_m: 0.9987 - val_loss: 0.0379 - val_accuracy: 0.9911 - val_precision_m: 0.9875 - val_recall_m: 0.9961 - val_f1_m: 0.9913\n"
     ]
    }
   ],
   "source": [
    "histCNN = CNN.fit(training_padded, train_labels,\n",
    "                    validation_data=(testing_padded, test_labels),\n",
    "                    epochs=num_epochs, batch_size=batch_size)"
   ]
  },
  {
   "cell_type": "code",
   "execution_count": 27,
   "id": "3546ac22",
   "metadata": {
    "scrolled": true
   },
   "outputs": [
    {
     "name": "stdout",
     "output_type": "stream",
     "text": [
      "0.9911455512046814 0.9862747192382812 0.995895504951477 0.9907557964324951\n"
     ]
    }
   ],
   "source": [
    "loss, accuracy, precision, recall, f1_score = CNN.evaluate(testing_padded, test_labels, verbose=0)\n",
    "print(accuracy, precision, recall, f1_score)"
   ]
  },
  {
   "cell_type": "markdown",
   "id": "a60314d9",
   "metadata": {},
   "source": [
    "# Second convolutional network\n",
    "- More convolutional layers\n",
    "- More dense layers\n",
    "- Dropout in the dense layers to reduce overfitting"
   ]
  },
  {
   "cell_type": "code",
   "execution_count": 29,
   "id": "a398199a",
   "metadata": {},
   "outputs": [],
   "source": [
    "#vocab_size = 1000\n",
    "#max_len = 50\n",
    "#embedding_dim = 32\n",
    "#batch_size = 20\n",
    "#num_epochs = 5\n",
    "\n",
    "    # CNN2 Architecture\n",
    "conv1_kernel = 3\n",
    "conv1_channel = 48\n",
    "maxPool1_size = 2\n",
    "conv2_kernel = 3\n",
    "conv2_channel = 64\n",
    "maxPool2_size = 2\n",
    "# Fully connected part\n",
    "fc1_size = 128\n",
    "dropout_rate1 = 0.2\n",
    "fc2_size = 32\n",
    "dropout_rate2 = 0.35"
   ]
  },
  {
   "cell_type": "code",
   "execution_count": 33,
   "id": "52e1f0d5",
   "metadata": {},
   "outputs": [
    {
     "name": "stdout",
     "output_type": "stream",
     "text": [
      "Model: \"sequential_7\"\n",
      "_________________________________________________________________\n",
      "Layer (type)                 Output Shape              Param #   \n",
      "=================================================================\n",
      "embedding_7 (Embedding)      (None, 50, 32)            32000     \n",
      "_________________________________________________________________\n",
      "conv1d_2 (Conv1D)            (None, 48, 48)            4656      \n",
      "_________________________________________________________________\n",
      "max_pooling1d_2 (MaxPooling1 (None, 24, 48)            0         \n",
      "_________________________________________________________________\n",
      "conv1d_3 (Conv1D)            (None, 22, 64)            9280      \n",
      "_________________________________________________________________\n",
      "max_pooling1d_3 (MaxPooling1 (None, 11, 64)            0         \n",
      "_________________________________________________________________\n",
      "flatten_4 (Flatten)          (None, 704)               0         \n",
      "_________________________________________________________________\n",
      "dropout (Dropout)            (None, 704)               0         \n",
      "_________________________________________________________________\n",
      "dense_8 (Dense)              (None, 128)               90240     \n",
      "_________________________________________________________________\n",
      "dropout_1 (Dropout)          (None, 128)               0         \n",
      "_________________________________________________________________\n",
      "dense_9 (Dense)              (None, 32)                4128      \n",
      "_________________________________________________________________\n",
      "dense_10 (Dense)             (None, 1)                 33        \n",
      "=================================================================\n",
      "Total params: 140,337\n",
      "Trainable params: 140,337\n",
      "Non-trainable params: 0\n",
      "_________________________________________________________________\n"
     ]
    }
   ],
   "source": [
    "CNN2 = Sequential()\n",
    "CNN2.add(Embedding(vocab_size, embedding_dim, input_length=max_len))\n",
    "CNN2.add(Conv1D(conv1_channel, kernel_size=conv1_kernel, activation='relu'))\n",
    "CNN2.add(MaxPooling1D(pool_size=maxPool1_size))\n",
    "CNN2.add(Conv1D(conv2_channel, kernel_size=conv2_kernel, activation='relu'))\n",
    "CNN2.add(MaxPooling1D(pool_size=maxPool2_size))\n",
    "CNN2.add(Flatten())\n",
    "CNN2.add(Dropout(dropout_rate1))\n",
    "CNN2.add(Dense(fc1_size, activation='relu'))\n",
    "CNN2.add(Dropout(dropout_rate2))\n",
    "CNN2.add(Dense(fc2_size, activation='relu'))\n",
    "CNN2.add(Dense(1, activation='sigmoid'))\n",
    "CNN2.compile(optimizer='adam', loss='binary_crossentropy', metrics=['accuracy', precision_m, recall_m, f1_m])\n",
    "CNN2.summary()"
   ]
  },
  {
   "cell_type": "code",
   "execution_count": 34,
   "id": "6b1a5856",
   "metadata": {},
   "outputs": [
    {
     "name": "stdout",
     "output_type": "stream",
     "text": [
      "Epoch 1/5\n",
      "362/362 [==============================] - 3s 6ms/step - loss: 0.1638 - accuracy: 0.9325 - precision_m: 0.9296 - recall_m: 0.9138 - f1_m: 0.9161 - val_loss: 0.0557 - val_accuracy: 0.9834 - val_precision_m: 0.9935 - val_recall_m: 0.9763 - val_f1_m: 0.9841\n",
      "Epoch 2/5\n",
      "362/362 [==============================] - 2s 5ms/step - loss: 0.0393 - accuracy: 0.9885 - precision_m: 0.9900 - recall_m: 0.9878 - f1_m: 0.9882 - val_loss: 0.0335 - val_accuracy: 0.9911 - val_precision_m: 0.9961 - val_recall_m: 0.9870 - val_f1_m: 0.9911\n",
      "Epoch 3/5\n",
      "362/362 [==============================] - 2s 5ms/step - loss: 0.0219 - accuracy: 0.9927 - precision_m: 0.9904 - recall_m: 0.9899 - f1_m: 0.9897 - val_loss: 0.0297 - val_accuracy: 0.9900 - val_precision_m: 0.9905 - val_recall_m: 0.9922 - val_f1_m: 0.9910\n",
      "Epoch 4/5\n",
      "362/362 [==============================] - 2s 5ms/step - loss: 0.0114 - accuracy: 0.9961 - precision_m: 0.9967 - recall_m: 0.9952 - f1_m: 0.9957 - val_loss: 0.0530 - val_accuracy: 0.9862 - val_precision_m: 0.9945 - val_recall_m: 0.9807 - val_f1_m: 0.9869\n",
      "Epoch 5/5\n",
      "362/362 [==============================] - 2s 5ms/step - loss: 0.0123 - accuracy: 0.9967 - precision_m: 0.9971 - recall_m: 0.9963 - f1_m: 0.9965 - val_loss: 0.0415 - val_accuracy: 0.9895 - val_precision_m: 0.9867 - val_recall_m: 0.9949 - val_f1_m: 0.9904\n"
     ]
    }
   ],
   "source": [
    "histCNN2 = CNN2.fit(training_padded, train_labels,\n",
    "                    validation_data=(testing_padded, test_labels),\n",
    "                    epochs=num_epochs, batch_size=batch_size)"
   ]
  },
  {
   "cell_type": "code",
   "execution_count": 35,
   "id": "542876b8",
   "metadata": {},
   "outputs": [
    {
     "name": "stdout",
     "output_type": "stream",
     "text": [
      "0.9894853234291077 0.9850099086761475 0.9946423768997192 0.98952317237854\n"
     ]
    }
   ],
   "source": [
    "loss, accuracy, precision, recall, f1_score = CNN2.evaluate(testing_padded, test_labels, verbose=0)\n",
    "print(accuracy, precision, recall, f1_score)"
   ]
  },
  {
   "cell_type": "markdown",
   "id": "b662d70e",
   "metadata": {},
   "source": [
    "# Visualizing the word embedders\n",
    "The most straightforward methods would be dimensional reduction methods, that project our 32-dimensional word embedding space into a 2-dimensional space we can visualize. The technique we'll use is tSNE."
   ]
  },
  {
   "cell_type": "code",
   "execution_count": 36,
   "id": "25f412d9",
   "metadata": {},
   "outputs": [],
   "source": [
    "embed_layer = CNN2.get_layer(CNN2.layers[0].name)\n",
    "embedding = embed_layer.get_weights()\n",
    "embedding = embedding[0] #Otherwise we have a list that contains an array"
   ]
  },
  {
   "cell_type": "code",
   "execution_count": 37,
   "id": "d1a18614",
   "metadata": {},
   "outputs": [
    {
     "name": "stdout",
     "output_type": "stream",
     "text": [
      "(1000, 32)\n"
     ]
    }
   ],
   "source": [
    "print(embedding.shape) #1000 words, including 0 token and token index number 1 for <OOV>"
   ]
  },
  {
   "cell_type": "code",
   "execution_count": 38,
   "id": "72584a33",
   "metadata": {},
   "outputs": [],
   "source": [
    "embeddingTSNE5 = TSNE(n_components=2, learning_rate='auto',\n",
    "                     perplexity=5.0, init='random').fit_transform(embedding)\n",
    "embeddingTSNE30 = TSNE(n_components=2, learning_rate='auto',\n",
    "                     perplexity=30.0, init='random').fit_transform(embedding)"
   ]
  },
  {
   "cell_type": "markdown",
   "id": "7b5d95c1",
   "metadata": {},
   "source": [
    "### Add colors for each word\n",
    "Each word gets assigned a score in [0,1]. 0 corresponds to ham, 1 corresponds to spam.\n",
    "\n",
    "How to compute the score :\n",
    "- For each sentence, add to each word present in the sentence the prediction confidence of our model on the sentence.\n",
    "- Average over all occurences of the word to rescale to [0,1]"
   ]
  },
  {
   "cell_type": "code",
   "execution_count": 39,
   "id": "bbc962a5",
   "metadata": {},
   "outputs": [],
   "source": [
    "#vocab_size = 1000\n",
    "word_confidence = np.zeros((vocab_size, 2))\n",
    "\n",
    "confidence_train = CNN2.predict(training_padded, batch_size=32)\n",
    "L = training_padded.shape[0]\n",
    "for i in range(L):\n",
    "    for token in training_padded[i]:\n",
    "        word_confidence[token, 0] += confidence_train[i]\n",
    "        word_confidence[token, 1] += 1\n",
    "            \n",
    "confidence_test = CNN2.predict(testing_padded, batch_size=32)\n",
    "L = testing_padded.shape[0]\n",
    "for i in range(L):\n",
    "    for token in testing_padded[i]:\n",
    "        word_confidence[token, 0] += confidence_test[i]\n",
    "        word_confidence[token, 1] += 1"
   ]
  },
  {
   "cell_type": "code",
   "execution_count": 40,
   "id": "569a15a0",
   "metadata": {},
   "outputs": [
    {
     "name": "stdout",
     "output_type": "stream",
     "text": [
      "(1000,)\n"
     ]
    }
   ],
   "source": [
    "word_color = np.zeros(vocab_size)\n",
    "for i in range(vocab_size):\n",
    "    if word_confidence[i, 1] == 0.0:\n",
    "        print(\"Should never happen\")\n",
    "        word_color[i] = 0.5\n",
    "    else:\n",
    "        word_color[i] = word_confidence[i,0] / word_confidence[i,1]\n",
    "print(word_color.shape)"
   ]
  },
  {
   "cell_type": "code",
   "execution_count": 41,
   "id": "0136c60f",
   "metadata": {},
   "outputs": [
    {
     "data": {
      "image/png": "[encoded data removed]",
      "text/plain": [
       "<Figure size 432x288 with 1 Axes>"
      ]
     },
     "metadata": {
      "needs_background": "light"
     },
     "output_type": "display_data"
    }
   ],
   "source": [
    "plt.scatter(embeddingTSNE5[:,0], embeddingTSNE5[:,1], c=word_color, cmap='coolwarm')\n",
    "#coolwarm colormap : red = 1 (spam), blue = 0 (ham)\n",
    "plt.show()"
   ]
  },
  {
   "cell_type": "code",
   "execution_count": 42,
   "id": "f2563282",
   "metadata": {},
   "outputs": [
    {
     "data": {
      "image/png": "[encoded data removed]",
      "text/plain": [
       "<Figure size 432x288 with 1 Axes>"
      ]
     },
     "metadata": {
      "needs_background": "light"
     },
     "output_type": "display_data"
    }
   ],
   "source": [
    "plt.scatter(embeddingTSNE30[:,0], embeddingTSNE30[:,1], c=word_color, cmap='coolwarm')\n",
    "plt.show()"
   ]
  },
  {
   "cell_type": "markdown",
   "id": "31df4aff",
   "metadata": {},
   "source": [
    "### Observations about tSNE plots and color\n",
    "We can observe a clear division between the words most commonly associated with spam (deep red) and the ones associated with non-spam (blue) "
   ]
  },
  {
   "cell_type": "code",
   "execution_count": 44,
   "id": "cc2ae673",
   "metadata": {},
   "outputs": [
    {
     "data": {
      "text/plain": [
       "['prize',\n",
       " 'claim',\n",
       " '150p',\n",
       " 'won',\n",
       " 'landline',\n",
       " '18',\n",
       " '000',\n",
       " 'guaranteed',\n",
       " 'tone',\n",
       " '£1',\n",
       " 'ringtone',\n",
       " 'valid',\n",
       " 'weekly',\n",
       " '150',\n",
       " 'cs',\n",
       " '150ppm',\n",
       " 'http',\n",
       " '500',\n",
       " '10p',\n",
       " '8007',\n",
       " 'tones',\n",
       " 'national',\n",
       " 'mob',\n",
       " '750',\n",
       " 'awarded',\n",
       " 'sae',\n",
       " 'collection',\n",
       " 'bonus',\n",
       " 'unsubscribe',\n",
       " 'poly',\n",
       " '£1000',\n",
       " 'entry',\n",
       " '08000930705',\n",
       " '800',\n",
       " '£500',\n",
       " '2003',\n",
       " 'freemsg',\n",
       " '86688',\n",
       " 'expires',\n",
       " 'reward',\n",
       " 'camcorder',\n",
       " 'mobileupd8',\n",
       " '£2',\n",
       " 'winner',\n",
       " '£2000',\n",
       " '08000839402',\n",
       " 'ac',\n",
       " 'ppm',\n",
       " 'quiz',\n",
       " 'operator',\n",
       " 'suite342',\n",
       " '2lands',\n",
       " 'ringtones',\n",
       " 'rental',\n",
       " 'charged',\n",
       " 'standard',\n",
       " '03',\n",
       " 'ipod',\n",
       " 'wap',\n",
       " 'unredeemed',\n",
       " '1000',\n",
       " '04',\n",
       " 'txts',\n",
       " 'dogging',\n",
       " '2004',\n",
       " 'vouchers',\n",
       " 'savamob',\n",
       " '00',\n",
       " '87066',\n",
       " 'charity',\n",
       " '£3',\n",
       " 'eg',\n",
       " \"c's\",\n",
       " \"uk's\",\n",
       " '0800',\n",
       " '£250',\n",
       " 'specially',\n",
       " 'call2optout',\n",
       " 'awaits',\n",
       " 'w1j6hl',\n",
       " '250',\n",
       " 'pobox',\n",
       " '87077',\n",
       " \"week's\",\n",
       " '3030',\n",
       " 'upgrade',\n",
       " 'bluetooth',\n",
       " 'maximize',\n",
       " 'ldew',\n",
       " 'logo',\n",
       " '08718720201',\n",
       " 'hg',\n",
       " 'credits',\n",
       " 'custcare',\n",
       " '50p',\n",
       " 'getzed',\n",
       " '£10',\n",
       " '24',\n",
       " 'biz',\n",
       " 'horny',\n",
       " 'admirer',\n",
       " '£350',\n",
       " 'ntt',\n",
       " '2optout',\n",
       " 'tenerife',\n",
       " '62468',\n",
       " 'subscription',\n",
       " '£5000',\n",
       " '28',\n",
       " 'comuk',\n",
       " 'reveal',\n",
       " '08712300220',\n",
       " 'opt',\n",
       " 'ldn',\n",
       " '0870',\n",
       " '25p',\n",
       " 'rates',\n",
       " 'polys',\n",
       " 'zed',\n",
       " 'ts',\n",
       " 'matches',\n",
       " '£200',\n",
       " 'cc',\n",
       " '02',\n",
       " 'age16',\n",
       " 'videophone',\n",
       " 'loyalty',\n",
       " 'holder',\n",
       " 'sp',\n",
       " '06',\n",
       " '1327',\n",
       " 'croydon',\n",
       " 'cr9',\n",
       " '5wb',\n",
       " '200',\n",
       " \"t's\",\n",
       " 'o2',\n",
       " 'urawinner',\n",
       " '£5',\n",
       " 'redeem',\n",
       " 'themob',\n",
       " '£800',\n",
       " 'ec2a',\n",
       " 'pobox36504w45wq',\n",
       " '20p',\n",
       " '40gb',\n",
       " 'voda',\n",
       " 'sonyericsson',\n",
       " '300',\n",
       " '05',\n",
       " '5000',\n",
       " '80062',\n",
       " '434',\n",
       " '82277',\n",
       " 'gbp',\n",
       " 'partner',\n",
       " 'largest',\n",
       " 'ip4',\n",
       " 'flag',\n",
       " 'flights',\n",
       " 'redeemed',\n",
       " 'digital',\n",
       " 'mobiles',\n",
       " 'no1',\n",
       " '80488',\n",
       " '83355',\n",
       " 'txtauction',\n",
       " 'xchat',\n",
       " 'announcement',\n",
       " '87239',\n",
       " 'paris',\n",
       " 'revealed',\n",
       " '£900',\n",
       " 'invites',\n",
       " '85',\n",
       " 'textpod',\n",
       " '08707509020',\n",
       " 'pence',\n",
       " '3510i',\n",
       " '350',\n",
       " 'awaiting',\n",
       " 'singles',\n",
       " '86021',\n",
       " '83600',\n",
       " 'vip',\n",
       " 'polyphonic',\n",
       " 'arcade',\n",
       " '36504',\n",
       " '10am',\n",
       " 'moby',\n",
       " '85023',\n",
       " 'tncs',\n",
       " \"weekend's\",\n",
       " '5we',\n",
       " 'selection',\n",
       " 'representative',\n",
       " '12hrs',\n",
       " 'subscriber',\n",
       " 'vodafone',\n",
       " 'december',\n",
       " 'rcvd',\n",
       " 'inc',\n",
       " 'raffle',\n",
       " 'mtmsgrcvd18',\n",
       " 'bx420',\n",
       " 'porn',\n",
       " 'costa',\n",
       " 'sol',\n",
       " '08001950382',\n",
       " 'fantasy',\n",
       " 'cw25wx',\n",
       " 'harry',\n",
       " '1x150p',\n",
       " 'msgrcvdhg',\n",
       " '400',\n",
       " 'ibiza',\n",
       " '88039',\n",
       " '£400',\n",
       " 'w1',\n",
       " '08712405020',\n",
       " 'pobox84',\n",
       " '£150',\n",
       " 'ntwk',\n",
       " 'sk38xh',\n",
       " 'w45wq',\n",
       " 'records',\n",
       " '82242',\n",
       " '87131',\n",
       " 'unsub',\n",
       " 'complimentary',\n",
       " 'std',\n",
       " 'spook',\n",
       " 'skilgme',\n",
       " 'star']"
      ]
     },
     "execution_count": 44,
     "metadata": {},
     "output_type": "execute_result"
    }
   ],
   "source": [
    "[w for w,v in word_index.items() if v < vocab_size and word_color[v] >= 0.9999] #Strongly associated with spam"
   ]
  },
  {
   "cell_type": "markdown",
   "id": "8f36a0d5",
   "metadata": {},
   "source": [
    "# Word2Vec embedding\n",
    "We'll use the gensim library for our implementation of word2Vec.\n",
    "\n",
    "The format for the input text is a list of sentence, where a sentence is a list of strings (one string = one word)\n",
    "\n",
    "The main parameters of word2Vec are :\n",
    "- size (default 100) : Dimension of embedding space\n",
    "- window (default 5) : Size of window for context\n",
    "- min_count (default 5) : The minimum count of words to consider when training the model\n",
    "- sg (default 0 or CBOW) : The training algorithm, either CBOW (0) (Continuous bag of words) or skip gram (1)."
   ]
  },
  {
   "cell_type": "code",
   "execution_count": 45,
   "id": "c8b5e2eb",
   "metadata": {},
   "outputs": [
    {
     "name": "stdout",
     "output_type": "stream",
     "text": [
      "7225\n",
      "<class 'list'>\n",
      "['but', 'your', 'not', 'here']\n",
      "1807\n"
     ]
    }
   ],
   "source": [
    "# Turning our data into a list of sentences\n",
    "converted = tokenizer.sequences_to_texts(tokenizer.texts_to_sequences(train_msg))\n",
    "print(len(converted))\n",
    "print(type(converted[0].split()))\n",
    "print(converted[7224].split()) # Number of words may be strictly less than 50\n",
    "\n",
    "converted_test = tokenizer.sequences_to_texts(tokenizer.texts_to_sequences(test_msg))\n",
    "print(len(converted_test))"
   ]
  },
  {
   "cell_type": "code",
   "execution_count": 46,
   "id": "2b3f26c0",
   "metadata": {},
   "outputs": [],
   "source": [
    "sentences_train = [converted[i].split() for i in range(len(converted))]\n",
    "sentences_test = [converted_test[i].split() for i in range(len(converted_test))]"
   ]
  },
  {
   "cell_type": "code",
   "execution_count": 47,
   "id": "3ece88a1",
   "metadata": {},
   "outputs": [],
   "source": [
    "#embedding_dim = 32\n",
    "model = Word2Vec(sentences=sentences_train,\n",
    "                 vector_size=embedding_dim,\n",
    "                 window=5, min_count=1, workers=4)\n",
    "\n",
    "word_vectors = model.wv\n",
    "del model # word_vectors contains our dictionary and the embedding matrix.\n",
    "          # We delete the model since we do not need to train it anymore."
   ]
  },
  {
   "cell_type": "code",
   "execution_count": 48,
   "id": "ab42a5a0",
   "metadata": {},
   "outputs": [
    {
     "name": "stdout",
     "output_type": "stream",
     "text": [
      "999\n"
     ]
    },
    {
     "data": {
      "text/plain": [
       "[('<OOV>', 0), ('to', 1), ('you', 2), ('a', 3), ('the', 4)]"
      ]
     },
     "execution_count": 48,
     "metadata": {},
     "output_type": "execute_result"
    }
   ],
   "source": [
    "print(len(word_vectors.key_to_index))\n",
    "list(word_vectors.key_to_index.items())[:5]"
   ]
  },
  {
   "cell_type": "code",
   "execution_count": 49,
   "id": "14c6f33a",
   "metadata": {},
   "outputs": [
    {
     "name": "stdout",
     "output_type": "stream",
     "text": [
      "(999, 32)\n",
      "(1000, 32)\n"
     ]
    }
   ],
   "source": [
    "vocab = list(word_vectors.key_to_index)\n",
    "word_matrix = word_vectors[vocab]\n",
    "print(word_matrix.shape)\n",
    "\n",
    "# Word2Vec embedding puts the token 0 for <OOV>, which means we need to add a line to our embedding matrix\n",
    "# that corresponds to the filler token.\n",
    "if word_matrix.shape[0] < vocab_size:\n",
    "    word_matrix = np.vstack([np.zeros(embedding_dim), word_matrix])\n",
    "    print(word_matrix.shape)"
   ]
  },
  {
   "cell_type": "code",
   "execution_count": 50,
   "id": "eb921477",
   "metadata": {},
   "outputs": [
    {
     "data": {
      "text/plain": [
       "<matplotlib.collections.PathCollection at 0x13c70c6f130>"
      ]
     },
     "execution_count": 50,
     "metadata": {},
     "output_type": "execute_result"
    },
    {
     "data": {
      "image/png": "[encoded data removed]",
      "text/plain": [
       "<Figure size 432x288 with 1 Axes>"
      ]
     },
     "metadata": {
      "needs_background": "light"
     },
     "output_type": "display_data"
    }
   ],
   "source": [
    "word_matrix_TSNE15 = TSNE(n_components=2, learning_rate='auto',\n",
    "                     perplexity=15., init='random').fit_transform(word_matrix)\n",
    "\n",
    "fix, ax = plt.subplots()\n",
    "ax.scatter(word_matrix_TSNE15[:,0], word_matrix_TSNE15[:,1])"
   ]
  },
  {
   "cell_type": "markdown",
   "id": "7f1b3235",
   "metadata": {},
   "source": [
    "# Building a convolutional neural network using word2Vec\n",
    "We will use the same architecture as our first convolutional neural network"
   ]
  },
  {
   "cell_type": "code",
   "execution_count": 52,
   "id": "bd0bb82d",
   "metadata": {},
   "outputs": [
    {
     "name": "stdout",
     "output_type": "stream",
     "text": [
      "Model: \"sequential_9\"\n",
      "_________________________________________________________________\n",
      "Layer (type)                 Output Shape              Param #   \n",
      "=================================================================\n",
      "embedding_8 (Embedding)      (None, 50, 32)            32000     \n",
      "_________________________________________________________________\n",
      "conv1d_4 (Conv1D)            (None, 48, 48)            4656      \n",
      "_________________________________________________________________\n",
      "max_pooling1d_4 (MaxPooling1 (None, 24, 48)            0         \n",
      "_________________________________________________________________\n",
      "flatten_5 (Flatten)          (None, 1152)              0         \n",
      "_________________________________________________________________\n",
      "dense_11 (Dense)             (None, 128)               147584    \n",
      "_________________________________________________________________\n",
      "dense_12 (Dense)             (None, 1)                 129       \n",
      "=================================================================\n",
      "Total params: 184,369\n",
      "Trainable params: 152,369\n",
      "Non-trainable params: 32,000\n",
      "_________________________________________________________________\n"
     ]
    }
   ],
   "source": [
    "#vocab_size = 1000\n",
    "#max_len = 50\n",
    "#embedding_dim = 32\n",
    "#batch_size = 20\n",
    "#num_epochs = 5\n",
    "\n",
    "    # CNN Architecture\n",
    "#conv1_kernel = 3\n",
    "#conv1_channel = 48\n",
    "#maxPool1_size = 2\n",
    "#fc_size = 128\n",
    "\n",
    "w2vCNN = Sequential()\n",
    "w2vCNN.add(Embedding(vocab_size, embedding_dim, input_length=max_len,\n",
    "                  weights=[word_matrix],\n",
    "                   trainable=False))\n",
    "w2vCNN.add(Conv1D(conv1_channel, conv1_kernel, activation='relu'))\n",
    "w2vCNN.add(MaxPooling1D(pool_size=maxPool1_size))\n",
    "w2vCNN.add(Flatten())\n",
    "w2vCNN.add(Dense(fc_size, activation='relu'))\n",
    "w2vCNN.add(Dense(1, activation='sigmoid'))\n",
    "w2vCNN.compile(optimizer='adam', loss='binary_crossentropy', metrics=['accuracy', precision_m, recall_m, f1_m])\n",
    "w2vCNN.summary()"
   ]
  },
  {
   "cell_type": "code",
   "execution_count": 53,
   "id": "db6757f8",
   "metadata": {},
   "outputs": [
    {
     "name": "stdout",
     "output_type": "stream",
     "text": [
      "Epoch 1/5\n",
      "362/362 [==============================] - 2s 4ms/step - loss: 0.1470 - accuracy: 0.9466 - precision_m: 0.9618 - recall_m: 0.9335 - f1_m: 0.9436 - val_loss: 0.1016 - val_accuracy: 0.9568 - val_precision_m: 0.9866 - val_recall_m: 0.9313 - val_f1_m: 0.9554\n",
      "Epoch 2/5\n",
      "362/362 [==============================] - 1s 3ms/step - loss: 0.0795 - accuracy: 0.9722 - precision_m: 0.9795 - recall_m: 0.9642 - f1_m: 0.9704 - val_loss: 0.0846 - val_accuracy: 0.9668 - val_precision_m: 0.9895 - val_recall_m: 0.9486 - val_f1_m: 0.9665\n",
      "Epoch 3/5\n",
      "362/362 [==============================] - 1s 3ms/step - loss: 0.0572 - accuracy: 0.9801 - precision_m: 0.9839 - recall_m: 0.9754 - f1_m: 0.9784 - val_loss: 0.1150 - val_accuracy: 0.9590 - val_precision_m: 0.9956 - val_recall_m: 0.9257 - val_f1_m: 0.9568\n",
      "Epoch 4/5\n",
      "362/362 [==============================] - 1s 3ms/step - loss: 0.0373 - accuracy: 0.9877 - precision_m: 0.9918 - recall_m: 0.9843 - f1_m: 0.9874 - val_loss: 0.0825 - val_accuracy: 0.9751 - val_precision_m: 0.9657 - val_recall_m: 0.9855 - val_f1_m: 0.9741\n",
      "Epoch 5/5\n",
      "362/362 [==============================] - 1s 3ms/step - loss: 0.0248 - accuracy: 0.9920 - precision_m: 0.9932 - recall_m: 0.9909 - f1_m: 0.9916 - val_loss: 0.0820 - val_accuracy: 0.9751 - val_precision_m: 0.9847 - val_recall_m: 0.9673 - val_f1_m: 0.9744\n"
     ]
    }
   ],
   "source": [
    "histw2vCNN = w2vCNN.fit(training_padded, train_labels,\n",
    "                    validation_data=(testing_padded, test_labels),\n",
    "                    epochs=num_epochs, batch_size=batch_size)"
   ]
  },
  {
   "cell_type": "code",
   "execution_count": 54,
   "id": "c3afc225",
   "metadata": {},
   "outputs": [
    {
     "name": "stdout",
     "output_type": "stream",
     "text": [
      "0.9750968217849731 0.9838371872901917 0.9688553214073181 0.9754343628883362\n"
     ]
    }
   ],
   "source": [
    "loss, accuracy, precision, recall, f1_score = w2vCNN.evaluate(testing_padded, test_labels, verbose=0)\n",
    "print(accuracy, precision, recall, f1_score)"
   ]
  },
  {
   "cell_type": "markdown",
   "id": "2370a565",
   "metadata": {},
   "source": [
    "# Visualizing the word embedder of word2Vec with colors"
   ]
  },
  {
   "cell_type": "code",
   "execution_count": 55,
   "id": "c0dc4a76",
   "metadata": {},
   "outputs": [],
   "source": [
    "#vocab_size = 1000\n",
    "word_confidence_w2v = np.zeros((vocab_size, 2))\n",
    "\n",
    "confidence_train_w2v = w2vCNN.predict(training_padded, batch_size=32)\n",
    "L = training_padded.shape[0]\n",
    "for i in range(L):\n",
    "    for token in training_padded[i]:\n",
    "        word_confidence_w2v[token, 0] += confidence_train_w2v[i]\n",
    "        word_confidence_w2v[token, 1] += 1\n",
    "            \n",
    "confidence_test_w2v = w2vCNN.predict(testing_padded, batch_size=32)\n",
    "L = testing_padded.shape[0]\n",
    "for i in range(L):\n",
    "    for token in testing_padded[i]:\n",
    "        word_confidence_w2v[token, 0] += confidence_test_w2v[i]\n",
    "        word_confidence_w2v[token, 1] += 1"
   ]
  },
  {
   "cell_type": "code",
   "execution_count": 56,
   "id": "9440eeab",
   "metadata": {},
   "outputs": [
    {
     "name": "stdout",
     "output_type": "stream",
     "text": [
      "(1000,)\n"
     ]
    }
   ],
   "source": [
    "word_color_w2v = np.zeros(vocab_size)\n",
    "for i in range(vocab_size):\n",
    "    if word_confidence_w2v[i, 1] == 0.0:\n",
    "        print(\"Should never happen\")\n",
    "        word_color_w2v[i] = 0.5\n",
    "    else:\n",
    "        word_color_w2v[i] = word_confidence_w2v[i,0] / word_confidence_w2v[i,1]\n",
    "print(word_color_w2v.shape)"
   ]
  },
  {
   "cell_type": "code",
   "execution_count": 57,
   "id": "d7769107",
   "metadata": {},
   "outputs": [
    {
     "data": {
      "image/png": "[encoded data removed]",
      "text/plain": [
       "<Figure size 432x288 with 1 Axes>"
      ]
     },
     "metadata": {
      "needs_background": "light"
     },
     "output_type": "display_data"
    }
   ],
   "source": [
    "plt.scatter(word_matrix_TSNE15[:,0], word_matrix_TSNE15[:,1],\n",
    "            c=word_color_w2v, cmap='coolwarm')\n",
    "plt.show()"
   ]
  },
  {
   "cell_type": "markdown",
   "id": "33e4d3fd",
   "metadata": {},
   "source": [
    "# Trying to trick model with my own messages"
   ]
  },
  {
   "cell_type": "code",
   "execution_count": 78,
   "id": "ca939d57",
   "metadata": {},
   "outputs": [
    {
     "name": "stdout",
     "output_type": "stream",
     "text": [
      "Go until jurong point, crazy.. Available only in bugis n great world la e buffet... Cine there got amore wat...\n",
      "<class 'str'>\n",
      "<class 'pandas.core.frame.DataFrame'>\n",
      "<class 'pandas.core.series.Series'>\n",
      "<class 'pandas.core.series.Series'>\n",
      "Go until jurong point, crazy.. Available only in bugis n great world la e buffet... Cine there got amore wat...\n",
      "<class 'str'>\n"
     ]
    }
   ],
   "source": [
    "print(messages['message'][0])\n",
    "print(type(messages['message'][0]))\n",
    "print(type(messages))\n",
    "print(type(messages['message']))\n",
    "\n",
    "print(type(train_msg))\n",
    "print(train_msg[0])\n",
    "print(type(train_msg[0]))"
   ]
  },
  {
   "cell_type": "code",
   "execution_count": 97,
   "id": "e4b91add",
   "metadata": {},
   "outputs": [],
   "source": [
    "new_sentences = [\"Are you free tonight ? I'd like to talk to you\",\n",
    "                'I honestly hate dating so much but my parents are pressuring me so much',\n",
    "                'Dude do you also receive messages saying you won some amazing prize ?',\n",
    "                \"I could never spend £150 on a shirt bro\",\n",
    "                \"Nobel Prizes are awarded in the fields of Physics, Chemistry, Physiology or Medicine, Literature, and Peace\",\n",
    "                \"Congratulations ! You have won an amazing prize\"]"
   ]
  },
  {
   "cell_type": "code",
   "execution_count": 98,
   "id": "9f360fb2",
   "metadata": {},
   "outputs": [],
   "source": [
    "new_sentences2 = pd.Series(new_sentences)"
   ]
  },
  {
   "cell_type": "code",
   "execution_count": 99,
   "id": "2222e773",
   "metadata": {},
   "outputs": [
    {
     "name": "stdout",
     "output_type": "stream",
     "text": [
      "[[27, 3, 13, 373, 1, 82, 2, 336, 2, 3], [6, 1, 1, 266, 44, 234, 59, 32, 1, 27, 1, 23, 44, 234], [1, 41, 3, 322, 127, 227, 1, 3, 73, 215, 953, 40], [6, 309, 571, 1, 943, 16, 4, 1, 1], [1, 1, 27, 224, 15, 5, 1, 17, 1, 1, 1, 18, 1, 1, 9, 1], [297, 3, 19, 73, 108, 953, 40]]\n",
      "\n",
      "\n",
      "[ 27   3  13 373   1  82   2 336   2   3   0   0   0   0   0   0   0   0\n",
      "   0   0   0   0   0   0   0   0   0   0   0   0   0   0   0   0   0   0\n",
      "   0   0   0   0   0   0   0   0   0   0   0   0   0   0]\n"
     ]
    }
   ],
   "source": [
    "new_sequences = tokenizer.texts_to_sequences(new_sentences2)\n",
    "print(new_sequences)\n",
    "print(\"\\n\")\n",
    "new_padded = pad_sequences (new_sequences, maxlen = max_len,\n",
    "                                 padding = padding_type, truncating = trunc_type)\n",
    "print(new_padded[0])"
   ]
  },
  {
   "cell_type": "code",
   "execution_count": 100,
   "id": "ca39afef",
   "metadata": {},
   "outputs": [
    {
     "name": "stdout",
     "output_type": "stream",
     "text": [
      "[[9.54465210e-01]\n",
      " [1.41684711e-12]\n",
      " [1.00000000e+00]\n",
      " [3.20327341e-11]\n",
      " [1.47318915e-05]\n",
      " [1.00000000e+00]]\n"
     ]
    }
   ],
   "source": [
    "new_predict = CNN2.predict(new_padded, batch_size=32)\n",
    "print(new_predict)"
   ]
  },
  {
   "cell_type": "markdown",
   "id": "f1ca9ca7",
   "metadata": {},
   "source": [
    "# Observations from these\n",
    "It's surprisingly hard to trick the model into thinking it's spam\n",
    "\n",
    "There's a LOT of common words the model simply doesn't have. As a result, it replaces those with the <OOV> token. I suspect that it's because the spelling found in SMS is not great and that the dataset dates from around 2006, when texting on phone wasn't a common practice to COMMUNICATE (therefore, most messages were about meeting at a place, ...)"
   ]
  },
  {
   "cell_type": "markdown",
   "id": "2d1a7721",
   "metadata": {},
   "source": [
    "# Testing our trained model on youtube messages"
   ]
  },
  {
   "cell_type": "code",
   "execution_count": 109,
   "id": "edadb8ee",
   "metadata": {},
   "outputs": [],
   "source": [
    "youtube_messages = pd.read_csv(\"C:/Users/thinh/DeepLearning/YoutubeSpamCollection/Youtube01-Psy.csv\",\n",
    "                               sep =',', names=[\"CommentID\", \"Author\", \"Date\", \"message\", \"label\"])\n",
    "youtube_messages = youtube_messages[1:] # First row is for the labels in the .csv files"
   ]
  },
  {
   "cell_type": "code",
   "execution_count": 110,
   "id": "0d275493",
   "metadata": {},
   "outputs": [
    {
     "data": {
      "text/plain": [
       "1      Huh, anyway check out this you[tube] channel: ...\n",
       "2      Hey guys check out my new channel and our firs...\n",
       "3                 just for test I have to say murdev.com\n",
       "4       me shaking my sexy ass on my channel enjoy ^_^ ﻿\n",
       "5                watch?v=vtaRGgvGtWQ   Check this out .﻿\n",
       "                             ...                        \n",
       "346    How can this have 2 billion views when there's...\n",
       "347           I don't now why I'm watching this in 2014﻿\n",
       "348    subscribe to me for call of duty vids and give...\n",
       "349    hi guys please my android photo editor downloa...\n",
       "350    The first billion viewed this because they tho...\n",
       "Name: message, Length: 350, dtype: object"
      ]
     },
     "execution_count": 110,
     "metadata": {},
     "output_type": "execute_result"
    }
   ],
   "source": [
    "youtube_messages['message']"
   ]
  },
  {
   "cell_type": "code",
   "execution_count": 111,
   "id": "4a0afc1d",
   "metadata": {},
   "outputs": [],
   "source": [
    "youtube_sequences = tokenizer.texts_to_sequences(youtube_messages['message'])\n",
    "youtube_padded = pad_sequences(youtube_sequences, maxlen = max_len,\n",
    "                                 padding = padding_type, truncating = trunc_type)"
   ]
  },
  {
   "cell_type": "code",
   "execution_count": 112,
   "id": "462a3351",
   "metadata": {},
   "outputs": [
    {
     "data": {
      "text/plain": [
       "array([  1, 798, 454,  57,  29,   3,   1,   1,   1,   0,   0,   0,   0,\n",
       "         0,   0,   0,   0,   0,   0,   0,   0,   0,   0,   0,   0,   0,\n",
       "         0,   0,   0,   0,   0,   0,   0,   0,   0,   0,   0,   0,   0,\n",
       "         0,   0,   0,   0,   0,   0,   0,   0,   0,   0,   0])"
      ]
     },
     "execution_count": 112,
     "metadata": {},
     "output_type": "execute_result"
    }
   ],
   "source": [
    "youtube_padded[0]"
   ]
  },
  {
   "cell_type": "code",
   "execution_count": 113,
   "id": "c6f34173",
   "metadata": {},
   "outputs": [],
   "source": [
    "youtube_predict = CNN2.predict(youtube_padded, batch_size=32)"
   ]
  },
  {
   "cell_type": "code",
   "execution_count": 153,
   "id": "9d8f5078",
   "metadata": {},
   "outputs": [],
   "source": [
    "youtube_predict2 = [round(youtube_predict[i].item()) for i in range(len(youtube_predict))]\n",
    "youtube_labels = (youtube_messages['label'].map({'0': 0, '1': 1})).values"
   ]
  },
  {
   "cell_type": "code",
   "execution_count": 155,
   "id": "6881ad38",
   "metadata": {},
   "outputs": [],
   "source": [
    "tn, fp, fn, tp = confusion_matrix(youtube_labels,\n",
    "                                 youtube_predict2).ravel()"
   ]
  },
  {
   "cell_type": "code",
   "execution_count": 157,
   "id": "55cbddb5",
   "metadata": {},
   "outputs": [
    {
     "name": "stdout",
     "output_type": "stream",
     "text": [
      "159 16 121 54\n"
     ]
    }
   ],
   "source": [
    "print(tn, fp, fn, tp) #Lots of false negatives : negative = model predicts 0 when it's actually spam"
   ]
  },
  {
   "cell_type": "code",
   "execution_count": 166,
   "id": "48f120ee",
   "metadata": {},
   "outputs": [
    {
     "data": {
      "text/html": [
       "<div>\n",
       "<style scoped>\n",
       "    .dataframe tbody tr th:only-of-type {\n",
       "        vertical-align: middle;\n",
       "    }\n",
       "\n",
       "    .dataframe tbody tr th {\n",
       "        vertical-align: top;\n",
       "    }\n",
       "\n",
       "    .dataframe thead th {\n",
       "        text-align: right;\n",
       "    }\n",
       "</style>\n",
       "<table border=\"1\" class=\"dataframe\">\n",
       "  <thead>\n",
       "    <tr style=\"text-align: right;\">\n",
       "      <th></th>\n",
       "      <th>message</th>\n",
       "      <th>label</th>\n",
       "    </tr>\n",
       "  </thead>\n",
       "  <tbody>\n",
       "    <tr>\n",
       "      <th>151</th>\n",
       "      <td>Oppa! Yeah! Best Song!﻿</td>\n",
       "      <td>0</td>\n",
       "    </tr>\n",
       "    <tr>\n",
       "      <th>152</th>\n",
       "      <td>More... http://www.sunfrogshirts.com/Sunglass-...</td>\n",
       "      <td>1</td>\n",
       "    </tr>\n",
       "    <tr>\n",
       "      <th>153</th>\n",
       "      <td>https://www.facebook.com/teeLaLaLa﻿</td>\n",
       "      <td>1</td>\n",
       "    </tr>\n",
       "    <tr>\n",
       "      <th>154</th>\n",
       "      <td>http://www.twitch.tv/zxlightsoutxz﻿</td>\n",
       "      <td>1</td>\n",
       "    </tr>\n",
       "    <tr>\n",
       "      <th>155</th>\n",
       "      <td>reminds me of this song https://soundcloud.com...</td>\n",
       "      <td>1</td>\n",
       "    </tr>\n",
       "    <tr>\n",
       "      <th>156</th>\n",
       "      <td>What free gift cards? Go here  http://www.swag...</td>\n",
       "      <td>1</td>\n",
       "    </tr>\n",
       "    <tr>\n",
       "      <th>157</th>\n",
       "      <td>Search \"Chubbz Dinero - Ready Or Not \" Thanks ﻿</td>\n",
       "      <td>1</td>\n",
       "    </tr>\n",
       "    <tr>\n",
       "      <th>158</th>\n",
       "      <td>Follow me on Twitter @mscalifornia95﻿</td>\n",
       "      <td>1</td>\n",
       "    </tr>\n",
       "    <tr>\n",
       "      <th>159</th>\n",
       "      <td>😫😓😏😪😔😖😌😭😎😚😘😙😗😋😝😜😛😍😒😞😷😶😵😳😲😱😟😰😩😨😧😦😥😤😣😮😴😢😡😠😬😕😑😐😯😉...</td>\n",
       "      <td>0</td>\n",
       "    </tr>\n",
       "    <tr>\n",
       "      <th>160</th>\n",
       "      <td>▬▬▬▬▬▬▬▬▬▬ஜ۩۞۩ஜ▬▬▬▬▬▬▬▬ ＤＡＭＮ ＴＨＩＳ ＣＯＭＭＥＮＴ ＩＳ Ｆ...</td>\n",
       "      <td>0</td>\n",
       "    </tr>\n",
       "  </tbody>\n",
       "</table>\n",
       "</div>"
      ],
      "text/plain": [
       "                                               message label\n",
       "151                            Oppa! Yeah! Best Song!﻿     0\n",
       "152  More... http://www.sunfrogshirts.com/Sunglass-...     1\n",
       "153                https://www.facebook.com/teeLaLaLa﻿     1\n",
       "154                http://www.twitch.tv/zxlightsoutxz﻿     1\n",
       "155  reminds me of this song https://soundcloud.com...     1\n",
       "156  What free gift cards? Go here  http://www.swag...     1\n",
       "157    Search \"Chubbz Dinero - Ready Or Not \" Thanks ﻿     1\n",
       "158              Follow me on Twitter @mscalifornia95﻿     1\n",
       "159  😫😓😏😪😔😖😌😭😎😚😘😙😗😋😝😜😛😍😒😞😷😶😵😳😲😱😟😰😩😨😧😦😥😤😣😮😴😢😡😠😬😕😑😐😯😉...     0\n",
       "160  ▬▬▬▬▬▬▬▬▬▬ஜ۩۞۩ஜ▬▬▬▬▬▬▬▬ ＤＡＭＮ ＴＨＩＳ ＣＯＭＭＥＮＴ ＩＳ Ｆ...     0"
      ]
     },
     "execution_count": 166,
     "metadata": {},
     "output_type": "execute_result"
    }
   ],
   "source": [
    "youtube_messages[['message', 'label']][150:160] #2 brackets"
   ]
  },
  {
   "cell_type": "markdown",
   "id": "07248353",
   "metadata": {},
   "source": [
    "# Trying to understand why it doesn't work great on youtube dataset\n",
    "I would say :\n",
    "- Lack of vocabulary (lots of words being projected onto <OOV> token)\n",
    "- Lacks the detection of **youtube spam** features. Spam emails tend to be about how you \"won\" something and that you need to call a number, whereas spam on youtube seems to be about checking out someone's channel or clicking on a link"
   ]
  }
 ],
 "metadata": {
  "kernelspec": {
   "display_name": "Python 3 (ipykernel)",
   "language": "python",
   "name": "python3"
  },
  "language_info": {
   "codemirror_mode": {
    "name": "ipython",
    "version": 3
   },
   "file_extension": ".py",
   "mimetype": "text/x-python",
   "name": "python",
   "nbconvert_exporter": "python",
   "pygments_lexer": "ipython3",
   "version": "3.9.7"
  }
 },
 "nbformat": 4,
 "nbformat_minor": 5
}
